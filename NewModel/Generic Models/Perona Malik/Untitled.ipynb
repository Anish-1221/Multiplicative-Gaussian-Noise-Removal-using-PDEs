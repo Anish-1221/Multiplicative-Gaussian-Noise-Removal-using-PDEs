{
 "cells": [
  {
   "cell_type": "code",
   "execution_count": null,
   "id": "96468bfb",
   "metadata": {},
   "outputs": [],
   "source": [
    "import numpy as np\n",
    "import cv2\n",
    "\n",
    "# Define the parameters\n",
    "dt = 0.1  # Time step\n",
    "kernel_x = np.array([[-1, 0, 1], [-2, 0, 2], [-1, 0, 1]])\n",
    "kernel_y = np.array([[1, 2, 1], [0, 0, 0], [-1, -2, -1]])\n",
    "\n",
    "gamma = 0.42\n",
    "\n",
    "# Pad the kernel to match the size of the image\n",
    "padding = (kernel_x.shape[0] - 1) // 2\n",
    "kerx_pad = np.pad(kernel_x, padding, 'constant')\n",
    "kery_pad = np.pad(kernel_y, padding, 'constant')\n",
    "\n",
    "# Define the hyperparameter lambda\n",
    "lambda_value = 0.1\n",
    "\n",
    "# Function to compute g(s)\n",
    "def g(s):\n",
    "    return 1 / (1 + (s**2 + lambda_value**2))\n",
    "\n",
    "# Function to apply the update rule\n",
    "def denoise_image(image, less, kerx, kery):\n",
    "    k_u_x = cv2.filter2D(image, -1, kerx)\n",
    "    phi_x = k_u_x*g(k_u_x)\n",
    "    p_x = dt * phi_x\n",
    "    ans_x = (((2 + gamma)*image) - less + p_x)/(1+gamma)\n",
    "    \n",
    "    k_u_y = cv2.filter2D(image, -1, kery)\n",
    "    phi_y = k_u_y*g(k_u_y)\n",
    "    p_y = dt * phi_y\n",
    "    ans_y = (((2 + gamma)*image) - less + p_y)/(1+gamma)\n",
    "    \n",
    "    ans = (ans_x + ans_y)/2.0\n",
    "    return ans\n",
    "\n",
    "# Load the image\n",
    "image = cv2.imread('lena_noisy.png', 0)\n",
    "image = image.astype(np.float32) / 255.0\n",
    "\n",
    "denoised_image = image.copy()\n",
    "img_less = image.copy()\n",
    "for _ in range(20):\n",
    "    temp = denoised_image.copy()\n",
    "    denoised_image = denoise_image(denoised_image, img_less, kerx_pad, kery_pad)\n",
    "    img_less = temp.copy()\n",
    "\n",
    "cv2.imwrite('lena_both_perona.jpg', denoised_image * 255.0)"
   ]
  }
 ],
 "metadata": {
  "kernelspec": {
   "display_name": "Python 3 (ipykernel)",
   "language": "python",
   "name": "python3"
  },
  "language_info": {
   "codemirror_mode": {
    "name": "ipython",
    "version": 3
   },
   "file_extension": ".py",
   "mimetype": "text/x-python",
   "name": "python",
   "nbconvert_exporter": "python",
   "pygments_lexer": "ipython3",
   "version": "3.9.13"
  }
 },
 "nbformat": 4,
 "nbformat_minor": 5
}
