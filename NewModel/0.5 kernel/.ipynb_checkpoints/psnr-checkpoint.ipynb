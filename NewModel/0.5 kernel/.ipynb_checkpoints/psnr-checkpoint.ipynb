{
 "cells": [
  {
   "cell_type": "code",
   "execution_count": 3,
   "id": "f00525c8",
   "metadata": {},
   "outputs": [
    {
     "name": "stdout",
     "output_type": "stream",
     "text": [
      "PSNR: 29.221948443282557\n"
     ]
    }
   ],
   "source": [
    "import cv2\n",
    "import numpy as np\n",
    "\n",
    "def calculate_psnr(denoised_image, original_image):\n",
    "    # Read the images\n",
    "    denoised_img = cv2.imread(denoised_image)\n",
    "    original_img = cv2.imread(original_image)\n",
    "\n",
    "    # Calculate MSE (Mean Squared Error)\n",
    "    mse = np.mean((denoised_img - original_img) ** 2)\n",
    "\n",
    "    # Calculate the maximum pixel value of the images\n",
    "    max_pixel = 255.0\n",
    "\n",
    "    # Calculate PSNR using the formula\n",
    "    psnr = 20 * np.log10(max_pixel / np.sqrt(mse))\n",
    "\n",
    "    return psnr\n",
    "    \n",
    "denoised_image_path = \"lena_gli.jpg\"\n",
    "original_image_path = \"lena_clean.png\"\n",
    "\n",
    "psnr_value = calculate_psnr(denoised_image_path, original_image_path)\n",
    "print(\"PSNR:\", psnr_value)"
   ]
  },
  {
   "cell_type": "code",
   "execution_count": 7,
   "id": "616edbd5",
   "metadata": {},
   "outputs": [
    {
     "name": "stdout",
     "output_type": "stream",
     "text": [
      "Structural Similarity Index: 0.5509819139174473\n"
     ]
    }
   ],
   "source": [
    "import skimage\n",
    "from skimage.metrics import structural_similarity as ssim\n",
    "import cv2\n",
    "\n",
    "def calculate_ssim(original_image_path, generated_image_path):\n",
    "    # Load the images\n",
    "    original_image = cv2.imread(original_image_path, cv2.IMREAD_GRAYSCALE)\n",
    "    generated_image = cv2.imread(generated_image_path, cv2.IMREAD_GRAYSCALE)\n",
    "\n",
    "    # Calculate SSIM\n",
    "    ssim_index, _ = ssim(original_image, generated_image, full=True)\n",
    "\n",
    "    return ssim_index\n",
    "\n",
    "# Example usage\n",
    "original_image_path = 'lena_clean.png'\n",
    "generated_image_path = 'lena_gli.jpg'\n",
    "similarity_index = calculate_ssim(original_image_path, generated_image_path)\n",
    "print(\"Structural Similarity Index:\", similarity_index)"
   ]
  }
 ],
 "metadata": {
  "kernelspec": {
   "display_name": "Python 3 (ipykernel)",
   "language": "python",
   "name": "python3"
  },
  "language_info": {
   "codemirror_mode": {
    "name": "ipython",
    "version": 3
   },
   "file_extension": ".py",
   "mimetype": "text/x-python",
   "name": "python",
   "nbconvert_exporter": "python",
   "pygments_lexer": "ipython3",
   "version": "3.9.13"
  }
 },
 "nbformat": 4,
 "nbformat_minor": 5
}
