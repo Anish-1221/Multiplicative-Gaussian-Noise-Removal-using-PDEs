{
 "cells": [
  {
   "cell_type": "markdown",
   "id": "506b9b16",
   "metadata": {},
   "source": [
    "## Using x and y directions"
   ]
  },
  {
   "cell_type": "code",
   "execution_count": 6,
   "id": "08b21ee2",
   "metadata": {},
   "outputs": [
    {
     "data": {
      "text/plain": [
       "True"
      ]
     },
     "execution_count": 6,
     "metadata": {},
     "output_type": "execute_result"
    }
   ],
   "source": [
    "import numpy as np\n",
    "import cv2\n",
    "\n",
    "# Define the parameters\n",
    "dt = 0.1  # Time step\n",
    "kernel_x = np.array([[-1, 0, 1], [-2, 0, 2], [-1, 0, 1]])\n",
    "kernel_y = np.array([[1, 2, 1], [0, 0, 0], [-1, -2, -1]])\n",
    "\n",
    "gamma = 0.42\n",
    "\n",
    "# Pad the kernel to match the size of the image\n",
    "padding = (kernel_x.shape[0] - 1) // 2\n",
    "kerx_pad = np.pad(kernel_x, padding, 'constant')\n",
    "kery_pad = np.pad(kernel_y, padding, 'constant')\n",
    "\n",
    "# Define the hyperparameter lambda\n",
    "lambda_value = 0.1\n",
    "\n",
    "# Function to compute g(s)\n",
    "def g(s):\n",
    "    return 1 / (1 + (s**2 + lambda_value**2))\n",
    "\n",
    "# Function to apply the update rule\n",
    "def denoise_image(image, less, kerx, kery):\n",
    "    k_u_x = cv2.filter2D(image, -1, kerx)\n",
    "    phi_x = g(k_u_x)#k_u_x*g(k_u_x)\n",
    "    p_a = cv2.filter2D(phi_x, -1, kerx)\n",
    "    p_x = dt * p_a\n",
    "    \n",
    "    k_u_y = cv2.filter2D(image, -1, kery)\n",
    "    phi_y = g(k_u_y)#k_u_y*g(k_u_y)\n",
    "    p_b = cv2.filter2D(phi_y, -1, kery)\n",
    "    p_y = dt * p_b\n",
    "    \n",
    "    ans = (((2 + gamma)*image) - less + p_x + p_y)/(1+gamma)\n",
    "    \n",
    "#     k_u_y = cv2.filter2D(image, -1, kery)\n",
    "#     phi_y = k_u_y*g(k_u_y)\n",
    "#     p_y = dt * phi_y\n",
    "#     ans_y = (((2 + gamma)*image) - less + p_y)/(1+gamma)\n",
    "    \n",
    "#     ans = (ans_x + ans_y)/2.0\n",
    "    return ans\n",
    "\n",
    "# Load the image\n",
    "image = cv2.imread('lll_noisy.png', 0)\n",
    "image = image.astype(np.float32) / 255.0\n",
    "\n",
    "denoised_image = image.copy()\n",
    "img_less = image.copy()\n",
    "for _ in range(20):\n",
    "    temp = denoised_image.copy()\n",
    "    denoised_image = denoise_image(denoised_image, img_less, kerx_pad, kery_pad)\n",
    "    img_less = temp.copy()\n",
    "\n",
    "cv2.imwrite('changed_model.jpg', denoised_image * 255.0)"
   ]
  },
  {
   "cell_type": "markdown",
   "id": "3226f48d",
   "metadata": {},
   "source": [
    "### GLI"
   ]
  },
  {
   "cell_type": "code",
   "execution_count": 9,
   "id": "07aaf1e5",
   "metadata": {},
   "outputs": [
    {
     "data": {
      "text/plain": [
       "True"
      ]
     },
     "execution_count": 9,
     "metadata": {},
     "output_type": "execute_result"
    }
   ],
   "source": [
    "import numpy as np\n",
    "import cv2\n",
    "\n",
    "# Define the parameters\n",
    "dt = 0.1  # Time step\n",
    "kernel_x = np.array([[-1, 0, 1], [-1, 0, 1], [-1, 0, 1]])\n",
    "kernel_y = np.array([[1, 1, 1], [0, 0, 0], [-1, -1, -1]])\n",
    "\n",
    "gamma = 0.42\n",
    "\n",
    "# Pad the kernel to match the size of the image\n",
    "padding = (kernel_x.shape[0] - 1) // 2\n",
    "kerx_pad = np.pad(kernel_x, padding, 'constant')\n",
    "kery_pad = np.pad(kernel_y, padding, 'constant')\n",
    "\n",
    "# Define the hyperparameter lambda\n",
    "lambda_value = 0.1\n",
    "alpha_gli = 1.7\n",
    "\n",
    "def gray_level(image_matrix):\n",
    "    return (image_matrix/np.max(image_matrix))**alpha_gli\n",
    "\n",
    "# Function to compute g(s)\n",
    "def g(s):\n",
    "    return 1 / (1 + (s**2 + lambda_value**2))\n",
    "\n",
    "# Function to apply the update rule\n",
    "def denoise_image(image, less, kerx, kery):\n",
    "    k_u_x = cv2.filter2D(image, -1, kerx)\n",
    "    gli_x = gray_level(np.abs(k_u_x))\n",
    "    phi_x = gli_x*k_u_x*g(k_u_x)\n",
    "    p_a = cv2.filter2D(phi_x, -1, kerx)\n",
    "    p_x = dt * p_a\n",
    "    \n",
    "    k_u_y = cv2.filter2D(image, -1, kery)\n",
    "    gli_y = gray_level(np.abs(k_u_y))\n",
    "    phi_y = gli_y*k_u_y*g(k_u_y)\n",
    "    p_b = cv2.filter2D(phi_y, -1, kery)\n",
    "    p_y = dt * p_b\n",
    "    \n",
    "    ans = (((2 + gamma)*image) - less + p_x + p_y)/(1+gamma)\n",
    "    \n",
    "#     k_u_y = cv2.filter2D(image, -1, kery)\n",
    "#     gli_y = gray_level(np.abs(k_u_y))\n",
    "#     phi_y = gli_y*k_u_y*g(k_u_y)\n",
    "#     p_b = cv2.filter2D(phi_y, -1, kery)\n",
    "#     p_y = dt * p_b\n",
    "#     ans_y = (((2 + gamma)*image) - less + p_y)/(1+gamma)\n",
    "    \n",
    "#     ans = (ans_x + ans_y)/2.0\n",
    "    return ans\n",
    "\n",
    "# Load the image\n",
    "image = cv2.imread('lll_noisy.png', 0)\n",
    "image = image.astype(np.float32) / 255.0\n",
    "\n",
    "denoised_image = image.copy()\n",
    "img_less = image.copy()\n",
    "for _ in range(5):\n",
    "    temp = denoised_image.copy()\n",
    "    denoised_image = denoise_image(denoised_image, img_less, kerx_pad, kery_pad)\n",
    "    img_less = temp.copy()\n",
    "\n",
    "cv2.imwrite('change_gli.jpg', denoised_image * 255.0)"
   ]
  },
  {
   "cell_type": "markdown",
   "id": "daedb1f6",
   "metadata": {},
   "source": [
    "## Only X"
   ]
  },
  {
   "cell_type": "code",
   "execution_count": 5,
   "id": "1363414b",
   "metadata": {},
   "outputs": [
    {
     "data": {
      "text/plain": [
       "True"
      ]
     },
     "execution_count": 5,
     "metadata": {},
     "output_type": "execute_result"
    }
   ],
   "source": [
    "import numpy as np\n",
    "import cv2\n",
    "\n",
    "# Define the parameters\n",
    "dt = 0.1  # Time step\n",
    "kernel = np.array([[-1, 0, 1], [-1, 0, 1], [-1, 0, 1]])\n",
    "\n",
    "gamma = 0.42\n",
    "\n",
    "# Pad the kernel to match the size of the image\n",
    "padding = (kernel.shape[0] - 1) // 2\n",
    "kernel_padded = np.pad(kernel, padding, 'constant')\n",
    "\n",
    "# Define the hyperparameter lambda\n",
    "lambda_value = 0.1\n",
    "\n",
    "# Function to compute g(s)\n",
    "def g(s):\n",
    "    return 1 / (1 + (s**2 + lambda_value**2))\n",
    "\n",
    "# Function to apply the update rule\n",
    "def denoise_image(image, less, kernel):\n",
    "    k_u = cv2.filter2D(image, -1, kernel)\n",
    "    phi = k_u*g(k_u)\n",
    "    p = dt * phi\n",
    "    ans = (((2 + gamma)*image) - less + p)/(1+gamma)\n",
    "    return ans\n",
    "\n",
    "# Load the image\n",
    "image = cv2.imread('lena_noisy.png', 0)\n",
    "image = image.astype(np.float32) / 255.0\n",
    "\n",
    "denoised_image = image.copy()\n",
    "img_less = image.copy()\n",
    "for _ in range(20):\n",
    "    temp = denoised_image.copy()\n",
    "    denoised_image = denoise_image(denoised_image, img_less, kernel_padded)\n",
    "    img_less = temp.copy()\n",
    "\n",
    "cv2.imwrite('lena_x_perona.jpg', denoised_image * 255.0)"
   ]
  },
  {
   "cell_type": "markdown",
   "id": "cef6c831",
   "metadata": {},
   "source": [
    "### GLI"
   ]
  },
  {
   "cell_type": "code",
   "execution_count": 4,
   "id": "e9e33922",
   "metadata": {},
   "outputs": [
    {
     "data": {
      "text/plain": [
       "True"
      ]
     },
     "execution_count": 4,
     "metadata": {},
     "output_type": "execute_result"
    }
   ],
   "source": [
    "import numpy as np\n",
    "import cv2\n",
    "\n",
    "# Define the parameters\n",
    "dt = 0.1  # Time step\n",
    "kernel = np.array([[-1, 0, 1], [-1, 0, 1], [-1, 0, 1]])\n",
    "\n",
    "gamma = 0.42\n",
    "\n",
    "# Pad the kernel to match the size of the image\n",
    "padding = (kernel.shape[0] - 1) // 2\n",
    "kernel_padded = np.pad(kernel, padding, 'constant')\n",
    "\n",
    "# Define the hyperparameter lambda\n",
    "lambda_value = 0.1\n",
    "alpha_gli = 1.7\n",
    "\n",
    "def gray_level(image_matrix):\n",
    "    return (image_matrix/np.max(image_matrix))**alpha_gli\n",
    "\n",
    "# Function to compute g(s)\n",
    "def g(s):\n",
    "    return 1 / (1 + (s**2 + lambda_value**2))\n",
    "\n",
    "# Function to apply the update rule\n",
    "def denoise_image(image, less, kernel):\n",
    "    k_u = cv2.filter2D(image, -1, kernel)\n",
    "    gli = gray_level(np.abs(k_u))\n",
    "    phi = gli*k_u*g(k_u)\n",
    "    p = dt * phi\n",
    "    ans = (((2 + gamma)*image) - less + p)/(1+gamma)\n",
    "    return ans\n",
    "\n",
    "# Load the image\n",
    "image = cv2.imread('lena_noisy.png', 0)\n",
    "image = image.astype(np.float32) / 255.0\n",
    "\n",
    "denoised_image = image.copy()\n",
    "img_less = image.copy()\n",
    "for _ in range(20):\n",
    "    temp = denoised_image.copy()\n",
    "    denoised_image = denoise_image(denoised_image, img_less, kernel_padded)\n",
    "    img_less = temp.copy()\n",
    "\n",
    "cv2.imwrite('lena_x_gli.jpg', denoised_image * 255.0)"
   ]
  },
  {
   "cell_type": "markdown",
   "id": "c2bffc20",
   "metadata": {},
   "source": [
    "## Only Y"
   ]
  },
  {
   "cell_type": "code",
   "execution_count": 7,
   "id": "956d3b10",
   "metadata": {},
   "outputs": [
    {
     "data": {
      "text/plain": [
       "True"
      ]
     },
     "execution_count": 7,
     "metadata": {},
     "output_type": "execute_result"
    }
   ],
   "source": [
    "import numpy as np\n",
    "import cv2\n",
    "\n",
    "# Define the parameters\n",
    "dt = 0.1  # Time step\n",
    "kernel = np.array([[1, 1, 1], [0, 0, 0], [-1, -1, -1]])\n",
    "\n",
    "gamma = 0.42\n",
    "\n",
    "# Pad the kernel to match the size of the image\n",
    "padding = (kernel.shape[0] - 1) // 2\n",
    "kernel_padded = np.pad(kernel, padding, 'constant')\n",
    "\n",
    "# Define the hyperparameter lambda\n",
    "lambda_value = 0.1\n",
    "\n",
    "# Function to compute g(s)\n",
    "def g(s):\n",
    "    return 1 / (1 + (s**2 + lambda_value**2))\n",
    "\n",
    "# Function to apply the update rule\n",
    "def denoise_image(image, less, kernel):\n",
    "    k_u = cv2.filter2D(image, -1, kernel)\n",
    "    phi = k_u*g(k_u)\n",
    "    p = dt * phi\n",
    "    ans = (((2 + gamma)*image) - less + p)/(1+gamma)\n",
    "    return ans\n",
    "\n",
    "# Load the image\n",
    "image = cv2.imread('lena_noisy.png', 0)\n",
    "image = image.astype(np.float32) / 255.0\n",
    "\n",
    "denoised_image = image.copy()\n",
    "img_less = image.copy()\n",
    "for _ in range(20):\n",
    "    temp = denoised_image.copy()\n",
    "    denoised_image = denoise_image(denoised_image, img_less, kernel_padded)\n",
    "    img_less = temp.copy()\n",
    "\n",
    "cv2.imwrite('lena_y_perona.jpg', denoised_image * 255.0)"
   ]
  },
  {
   "cell_type": "markdown",
   "id": "30f354a2",
   "metadata": {},
   "source": [
    "### GLI"
   ]
  },
  {
   "cell_type": "code",
   "execution_count": 12,
   "id": "a0c3b508",
   "metadata": {},
   "outputs": [
    {
     "data": {
      "text/plain": [
       "True"
      ]
     },
     "execution_count": 12,
     "metadata": {},
     "output_type": "execute_result"
    }
   ],
   "source": [
    "import numpy as np\n",
    "import cv2\n",
    "\n",
    "# Define the parameters\n",
    "dt = 0.1  # Time step\n",
    "kernel = np.array([[1, 1, 1], [0, 0, 0], [-1, -1, -1]])\n",
    "\n",
    "gamma = 0.42\n",
    "\n",
    "# Pad the kernel to match the size of the image\n",
    "padding = (kernel.shape[0] - 1) // 2\n",
    "kernel_padded = np.pad(kernel, padding, 'constant')\n",
    "\n",
    "# Define the hyperparameter lambda\n",
    "lambda_value = 0.1\n",
    "alpha_gli = 1.7\n",
    "\n",
    "def gray_level(image_matrix):\n",
    "    return (image_matrix/np.max(image_matrix))**alpha_gli\n",
    "\n",
    "# Function to compute g(s)\n",
    "def g(s):\n",
    "    return 1 / (1 + (s**2 + lambda_value**2))\n",
    "\n",
    "# Function to apply the update rule\n",
    "def denoise_image(image, less, kernel):\n",
    "    k_u = cv2.filter2D(image, -1, kernel)\n",
    "    gli = gray_level(np.abs(k_u))\n",
    "    phi = gli*k_u*g(k_u)\n",
    "    p = cv2.filter2D(phi, -1, kernel)\n",
    "    p_y = dt * p\n",
    "#     phi = gli*k_u*g(k_u)\n",
    "#     p = dt * phi\n",
    "    ans = (((2 + gamma)*image) - less + p_y)/(1+gamma)\n",
    "    return ans\n",
    "\n",
    "# Load the image\n",
    "image = cv2.imread('lll_noisy.png', 0)\n",
    "image = image.astype(np.float32) / 255.0\n",
    "\n",
    "denoised_image = image.copy()\n",
    "img_less = image.copy()\n",
    "for _ in range(5):\n",
    "    temp = denoised_image.copy()\n",
    "    denoised_image = denoise_image(denoised_image, img_less, kernel_padded)\n",
    "    img_less = temp.copy()\n",
    "\n",
    "cv2.imwrite('changed_gli_y.jpg', denoised_image * 255.0)"
   ]
  }
 ],
 "metadata": {
  "kernelspec": {
   "display_name": "Python 3 (ipykernel)",
   "language": "python",
   "name": "python3"
  },
  "language_info": {
   "codemirror_mode": {
    "name": "ipython",
    "version": 3
   },
   "file_extension": ".py",
   "mimetype": "text/x-python",
   "name": "python",
   "nbconvert_exporter": "python",
   "pygments_lexer": "ipython3",
   "version": "3.9.13"
  }
 },
 "nbformat": 4,
 "nbformat_minor": 5
}
