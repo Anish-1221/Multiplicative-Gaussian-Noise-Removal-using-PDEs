{
 "cells": [
  {
   "cell_type": "markdown",
   "id": "506b9b16",
   "metadata": {},
   "source": [
    "## Both"
   ]
  },
  {
   "cell_type": "code",
   "execution_count": 1,
   "id": "08b21ee2",
   "metadata": {},
   "outputs": [
    {
     "data": {
      "text/plain": [
       "True"
      ]
     },
     "execution_count": 1,
     "metadata": {},
     "output_type": "execute_result"
    }
   ],
   "source": [
    "import numpy as np\n",
    "import cv2\n",
    "\n",
    "# Define the parameters\n",
    "dt = 0.1  # Time step\n",
    "kernel_x = np.array([[-1, 0, 1], [-2, 0, 2], [-1, 0, 1]])\n",
    "kernel_y = np.array([[1, 2, 1], [0, 0, 0], [-1, -2, -1]])\n",
    "\n",
    "gamma = 0.42\n",
    "\n",
    "# Pad the kernel to match the size of the image\n",
    "padding = (kernel_x.shape[0] - 1) // 2\n",
    "kerx_pad = np.pad(kernel_x, padding, 'constant')\n",
    "kery_pad = np.pad(kernel_y, padding, 'constant')\n",
    "\n",
    "# Define the hyperparameter lambda\n",
    "lambda_value = 0.1\n",
    "\n",
    "# Function to compute g(s)\n",
    "def g(s):\n",
    "    return 1 / (1 + (s**2 + lambda_value**2))\n",
    "\n",
    "# Function to apply the update rule\n",
    "def denoise_image(image, less, kerx, kery):\n",
    "    k_u_x = cv2.filter2D(image, -1, kerx)\n",
    "    phi_x = k_u_x*g(k_u_x)\n",
    "    p_x = dt * phi_x\n",
    "    ans_x = (((2 + gamma)*image) - less + p_x)/(1+gamma)\n",
    "    \n",
    "    k_u_y = cv2.filter2D(image, -1, kery)\n",
    "    phi_y = k_u_y*g(k_u_y)\n",
    "    p_y = dt * phi_y\n",
    "    ans_y = (((2 + gamma)*image) - less + p_y)/(1+gamma)\n",
    "    \n",
    "    ans = (ans_x + ans_y)/2.0\n",
    "    return ans\n",
    "\n",
    "# Load the image\n",
    "image = cv2.imread('lena_noisy.png', 0)\n",
    "image = image.astype(np.float32) / 255.0\n",
    "\n",
    "denoised_image = image.copy()\n",
    "img_less = image.copy()\n",
    "for _ in range(20):\n",
    "    temp = denoised_image.copy()\n",
    "    denoised_image = denoise_image(denoised_image, img_less, kerx_pad, kery_pad)\n",
    "    img_less = temp.copy()\n",
    "\n",
    "cv2.imwrite('lena_both_perona.jpg', denoised_image * 255.0)"
   ]
  },
  {
   "cell_type": "markdown",
   "id": "3226f48d",
   "metadata": {},
   "source": [
    "### GLI"
   ]
  },
  {
   "cell_type": "code",
   "execution_count": 3,
   "id": "07aaf1e5",
   "metadata": {},
   "outputs": [
    {
     "data": {
      "text/plain": [
       "True"
      ]
     },
     "execution_count": 3,
     "metadata": {},
     "output_type": "execute_result"
    }
   ],
   "source": [
    "import numpy as np\n",
    "import cv2\n",
    "\n",
    "# Define the parameters\n",
    "dt = 0.1  # Time step\n",
    "kernel_x = np.array([[-1, 0, 1], [-2, 0, 2], [-1, 0, 1]])\n",
    "kernel_y = np.array([[1, 2, 1], [0, 0, 0], [-1, -2, -1]])\n",
    "\n",
    "gamma = 0.42\n",
    "\n",
    "# Pad the kernel to match the size of the image\n",
    "padding = (kernel_x.shape[0] - 1) // 2\n",
    "kerx_pad = np.pad(kernel_x, padding, 'constant')\n",
    "kery_pad = np.pad(kernel_y, padding, 'constant')\n",
    "\n",
    "# Define the hyperparameter lambda\n",
    "lambda_value = 0.1\n",
    "alpha_gli = 1.7\n",
    "\n",
    "def gray_level(image_matrix):\n",
    "    return (image_matrix/np.max(image_matrix))**alpha_gli\n",
    "\n",
    "# Function to compute g(s)\n",
    "def g(s):\n",
    "    return 1 / (1 + (s**2 + lambda_value**2))\n",
    "\n",
    "# Function to apply the update rule\n",
    "def denoise_image(image, less, kerx, kery):\n",
    "    k_u_x = cv2.filter2D(image, -1, kerx)\n",
    "    gli_x = gray_level(np.abs(k_u_x))\n",
    "    phi_x = gli_x*k_u_x*g(k_u_x)\n",
    "    p_x = dt * phi_x\n",
    "    ans_x = (((2 + gamma)*image) - less + p_x)/(1+gamma)\n",
    "    \n",
    "    k_u_y = cv2.filter2D(image, -1, kery)\n",
    "    gli_y = gray_level(np.abs(k_u_y))\n",
    "    phi_y = gli_y*k_u_y*g(k_u_y)\n",
    "    p_y = dt * phi_y\n",
    "    ans_y = (((2 + gamma)*image) - less + p_y)/(1+gamma)\n",
    "    \n",
    "    ans = (ans_x + ans_y)/2.0\n",
    "    return ans\n",
    "\n",
    "# Load the image\n",
    "image = cv2.imread('lena_noisy.png', 0)\n",
    "image = image.astype(np.float32) / 255.0\n",
    "\n",
    "denoised_image = image.copy()\n",
    "img_less = image.copy()\n",
    "for _ in range(20):\n",
    "    temp = denoised_image.copy()\n",
    "    denoised_image = denoise_image(denoised_image, img_less, kerx_pad, kery_pad)\n",
    "    img_less = temp.copy()\n",
    "\n",
    "cv2.imwrite('lena_both_gli.jpg', denoised_image * 255.0)"
   ]
  },
  {
   "cell_type": "markdown",
   "id": "daedb1f6",
   "metadata": {},
   "source": [
    "## Only X"
   ]
  },
  {
   "cell_type": "code",
   "execution_count": 5,
   "id": "1363414b",
   "metadata": {},
   "outputs": [
    {
     "data": {
      "text/plain": [
       "True"
      ]
     },
     "execution_count": 5,
     "metadata": {},
     "output_type": "execute_result"
    }
   ],
   "source": [
    "import numpy as np\n",
    "import cv2\n",
    "\n",
    "# Define the parameters\n",
    "dt = 0.1  # Time step\n",
    "kernel = np.array([[-1, 0, 1], [-2, 0, 2], [-1, 0, 1]])\n",
    "\n",
    "gamma = 0.42\n",
    "\n",
    "# Pad the kernel to match the size of the image\n",
    "padding = (kernel.shape[0] - 1) // 2\n",
    "kernel_padded = np.pad(kernel, padding, 'constant')\n",
    "\n",
    "# Define the hyperparameter lambda\n",
    "lambda_value = 0.1\n",
    "\n",
    "# Function to compute g(s)\n",
    "def g(s):\n",
    "    return 1 / (1 + (s**2 + lambda_value**2))\n",
    "\n",
    "# Function to apply the update rule\n",
    "def denoise_image(image, less, kernel):\n",
    "    k_u = cv2.filter2D(image, -1, kernel)\n",
    "    phi = k_u*g(k_u)\n",
    "    p = dt * phi\n",
    "    ans = (((2 + gamma)*image) - less + p)/(1+gamma)\n",
    "    return ans\n",
    "\n",
    "# Load the image\n",
    "image = cv2.imread('lena_noisy.png', 0)\n",
    "image = image.astype(np.float32) / 255.0\n",
    "\n",
    "denoised_image = image.copy()\n",
    "img_less = image.copy()\n",
    "for _ in range(20):\n",
    "    temp = denoised_image.copy()\n",
    "    denoised_image = denoise_image(denoised_image, img_less, kernel_padded)\n",
    "    img_less = temp.copy()\n",
    "\n",
    "cv2.imwrite('lena_x_perona.jpg', denoised_image * 255.0)"
   ]
  },
  {
   "cell_type": "markdown",
   "id": "cef6c831",
   "metadata": {},
   "source": [
    "### GLI"
   ]
  },
  {
   "cell_type": "code",
   "execution_count": 4,
   "id": "e9e33922",
   "metadata": {},
   "outputs": [
    {
     "data": {
      "text/plain": [
       "True"
      ]
     },
     "execution_count": 4,
     "metadata": {},
     "output_type": "execute_result"
    }
   ],
   "source": [
    "import numpy as np\n",
    "import cv2\n",
    "\n",
    "# Define the parameters\n",
    "dt = 0.1  # Time step\n",
    "kernel = np.array([[-1, 0, 1], [-2, 0, 2], [-1, 0, 1]])\n",
    "\n",
    "gamma = 0.42\n",
    "\n",
    "# Pad the kernel to match the size of the image\n",
    "padding = (kernel.shape[0] - 1) // 2\n",
    "kernel_padded = np.pad(kernel, padding, 'constant')\n",
    "\n",
    "# Define the hyperparameter lambda\n",
    "lambda_value = 0.1\n",
    "alpha_gli = 1.7\n",
    "\n",
    "def gray_level(image_matrix):\n",
    "    return (image_matrix/np.max(image_matrix))**alpha_gli\n",
    "\n",
    "# Function to compute g(s)\n",
    "def g(s):\n",
    "    return 1 / (1 + (s**2 + lambda_value**2))\n",
    "\n",
    "# Function to apply the update rule\n",
    "def denoise_image(image, less, kernel):\n",
    "    k_u = cv2.filter2D(image, -1, kernel)\n",
    "    gli = gray_level(np.abs(k_u))\n",
    "    phi = gli*k_u*g(k_u)\n",
    "    p = dt * phi\n",
    "    ans = (((2 + gamma)*image) - less + p)/(1+gamma)\n",
    "    return ans\n",
    "\n",
    "# Load the image\n",
    "image = cv2.imread('lena_noisy.png', 0)\n",
    "image = image.astype(np.float32) / 255.0\n",
    "\n",
    "denoised_image = image.copy()\n",
    "img_less = image.copy()\n",
    "for _ in range(20):\n",
    "    temp = denoised_image.copy()\n",
    "    denoised_image = denoise_image(denoised_image, img_less, kernel_padded)\n",
    "    img_less = temp.copy()\n",
    "\n",
    "cv2.imwrite('lena_x_gli.jpg', denoised_image * 255.0)"
   ]
  },
  {
   "cell_type": "markdown",
   "id": "c2bffc20",
   "metadata": {},
   "source": [
    "## Only Y"
   ]
  },
  {
   "cell_type": "code",
   "execution_count": 6,
   "id": "956d3b10",
   "metadata": {},
   "outputs": [
    {
     "data": {
      "text/plain": [
       "True"
      ]
     },
     "execution_count": 6,
     "metadata": {},
     "output_type": "execute_result"
    }
   ],
   "source": [
    "import numpy as np\n",
    "import cv2\n",
    "\n",
    "# Define the parameters\n",
    "dt = 0.1  # Time step\n",
    "kernel = np.array([[1, 2, 1], [0, 0, 0], [-1, -2, -1]])\n",
    "\n",
    "gamma = 0.42\n",
    "\n",
    "# Pad the kernel to match the size of the image\n",
    "padding = (kernel.shape[0] - 1) // 2\n",
    "kernel_padded = np.pad(kernel, padding, 'constant')\n",
    "\n",
    "# Define the hyperparameter lambda\n",
    "lambda_value = 0.1\n",
    "\n",
    "# Function to compute g(s)\n",
    "def g(s):\n",
    "    return 1 / (1 + (s**2 + lambda_value**2))\n",
    "\n",
    "# Function to apply the update rule\n",
    "def denoise_image(image, less, kernel):\n",
    "    k_u = cv2.filter2D(image, -1, kernel)\n",
    "    phi = k_u*g(k_u)\n",
    "    p = dt * phi\n",
    "    ans = (((2 + gamma)*image) - less + p)/(1+gamma)\n",
    "    return ans\n",
    "\n",
    "# Load the image\n",
    "image = cv2.imread('lena_noisy.png', 0)\n",
    "image = image.astype(np.float32) / 255.0\n",
    "\n",
    "denoised_image = image.copy()\n",
    "img_less = image.copy()\n",
    "for _ in range(20):\n",
    "    temp = denoised_image.copy()\n",
    "    denoised_image = denoise_image(denoised_image, img_less, kernel_padded)\n",
    "    img_less = temp.copy()\n",
    "\n",
    "cv2.imwrite('lena_y_perona.jpg', denoised_image * 255.0)"
   ]
  },
  {
   "cell_type": "markdown",
   "id": "30f354a2",
   "metadata": {},
   "source": [
    "### GLI"
   ]
  },
  {
   "cell_type": "code",
   "execution_count": 7,
   "id": "a0c3b508",
   "metadata": {},
   "outputs": [
    {
     "data": {
      "text/plain": [
       "True"
      ]
     },
     "execution_count": 7,
     "metadata": {},
     "output_type": "execute_result"
    }
   ],
   "source": [
    "import numpy as np\n",
    "import cv2\n",
    "\n",
    "# Define the parameters\n",
    "dt = 0.1  # Time step\n",
    "kernel = np.array([[1, 2, 1], [0, 0, 0], [-1, -2, -1]])\n",
    "\n",
    "gamma = 0.42\n",
    "\n",
    "# Pad the kernel to match the size of the image\n",
    "padding = (kernel.shape[0] - 1) // 2\n",
    "kernel_padded = np.pad(kernel, padding, 'constant')\n",
    "\n",
    "# Define the hyperparameter lambda\n",
    "lambda_value = 0.1\n",
    "alpha_gli = 1.7\n",
    "\n",
    "def gray_level(image_matrix):\n",
    "    return (image_matrix/np.max(image_matrix))**alpha_gli\n",
    "\n",
    "# Function to compute g(s)\n",
    "def g(s):\n",
    "    return 1 / (1 + (s**2 + lambda_value**2))\n",
    "\n",
    "# Function to apply the update rule\n",
    "def denoise_image(image, less, kernel):\n",
    "    k_u = cv2.filter2D(image, -1, kernel)\n",
    "    gli = gray_level(np.abs(k_u))\n",
    "    phi = gli*k_u*g(k_u)\n",
    "    p = dt * phi\n",
    "    ans = (((2 + gamma)*image) - less + p)/(1+gamma)\n",
    "    return ans\n",
    "\n",
    "# Load the image\n",
    "image = cv2.imread('lena_noisy.png', 0)\n",
    "image = image.astype(np.float32) / 255.0\n",
    "\n",
    "denoised_image = image.copy()\n",
    "img_less = image.copy()\n",
    "for _ in range(20):\n",
    "    temp = denoised_image.copy()\n",
    "    denoised_image = denoise_image(denoised_image, img_less, kernel_padded)\n",
    "    img_less = temp.copy()\n",
    "\n",
    "cv2.imwrite('lena_y_gli.jpg', denoised_image * 255.0)"
   ]
  },
  {
   "cell_type": "markdown",
   "id": "9fea0094",
   "metadata": {},
   "source": [
    "# Kernel Training"
   ]
  },
  {
   "cell_type": "markdown",
   "id": "9fc83234",
   "metadata": {},
   "source": [
    "### Both"
   ]
  },
  {
   "cell_type": "code",
   "execution_count": 1,
   "id": "93750451",
   "metadata": {
    "scrolled": true
   },
   "outputs": [
    {
     "name": "stderr",
     "output_type": "stream",
     "text": [
      "Optimizing Kernels:   0%|                                                                      | 0/100 [00:00<?, ?it/s]C:\\Users\\anish\\AppData\\Local\\Temp\\ipykernel_15104\\3326704732.py:24: RuntimeWarning: overflow encountered in square\n",
      "  squared_term = np.clip(s**2 + lambda_value**2, a_min=None, a_max=1e3)  # Clip to a reasonable maximum value\n",
      "Optimizing Kernels: 100%|████████████████████████████████████████████████████████████| 100/100 [15:39<00:00,  9.40s/it]\n"
     ]
    },
    {
     "ename": "TypeError",
     "evalue": "denoise_image() missing 1 required positional argument: 'kery'",
     "output_type": "error",
     "traceback": [
      "\u001b[1;31m---------------------------------------------------------------------------\u001b[0m",
      "\u001b[1;31mTypeError\u001b[0m                                 Traceback (most recent call last)",
      "\u001b[1;32m~\\AppData\\Local\\Temp\\ipykernel_15104\\3326704732.py\u001b[0m in \u001b[0;36m<module>\u001b[1;34m\u001b[0m\n\u001b[0;32m    114\u001b[0m     \u001b[0mnoisy_image\u001b[0m \u001b[1;33m=\u001b[0m \u001b[0mnoisy_image\u001b[0m\u001b[1;33m.\u001b[0m\u001b[0mastype\u001b[0m\u001b[1;33m(\u001b[0m\u001b[0mnp\u001b[0m\u001b[1;33m.\u001b[0m\u001b[0mfloat32\u001b[0m\u001b[1;33m)\u001b[0m \u001b[1;33m/\u001b[0m \u001b[1;36m255.0\u001b[0m\u001b[1;33m\u001b[0m\u001b[1;33m\u001b[0m\u001b[0m\n\u001b[0;32m    115\u001b[0m \u001b[1;33m\u001b[0m\u001b[0m\n\u001b[1;32m--> 116\u001b[1;33m     \u001b[0mdenoised_image\u001b[0m \u001b[1;33m=\u001b[0m \u001b[0mdenoise_image\u001b[0m\u001b[1;33m(\u001b[0m\u001b[0mnoisy_image\u001b[0m\u001b[1;33m,\u001b[0m \u001b[0mkernel_x\u001b[0m\u001b[1;33m,\u001b[0m \u001b[0mkernel_y\u001b[0m\u001b[1;33m)\u001b[0m\u001b[1;33m\u001b[0m\u001b[1;33m\u001b[0m\u001b[0m\n\u001b[0m\u001b[0;32m    117\u001b[0m \u001b[1;33m\u001b[0m\u001b[0m\n\u001b[0;32m    118\u001b[0m     \u001b[0moutput_path\u001b[0m \u001b[1;33m=\u001b[0m \u001b[0mos\u001b[0m\u001b[1;33m.\u001b[0m\u001b[0mpath\u001b[0m\u001b[1;33m.\u001b[0m\u001b[0mjoin\u001b[0m\u001b[1;33m(\u001b[0m\u001b[0moutput_folder\u001b[0m\u001b[1;33m,\u001b[0m \u001b[1;34mf'{noisy_file}'\u001b[0m\u001b[1;33m)\u001b[0m\u001b[1;33m\u001b[0m\u001b[1;33m\u001b[0m\u001b[0m\n",
      "\u001b[1;31mTypeError\u001b[0m: denoise_image() missing 1 required positional argument: 'kery'"
     ]
    }
   ],
   "source": [
    "import os\n",
    "import numpy as np\n",
    "import cv2\n",
    "from tqdm import tqdm\n",
    "\n",
    "# Load the noisy and clean images\n",
    "noisy_folder = 'gamma_mult_images'\n",
    "clean_folder = 'clean_images'\n",
    "\n",
    "noisy_image_files = os.listdir(noisy_folder)\n",
    "clean_image_files = os.listdir(clean_folder)\n",
    "\n",
    "# Initialize the kernels\n",
    "kernel_x = np.array([[-1, 0, 1], [-2, 0, 2], [-1, 0, 1]],dtype=np.float64)\n",
    "kernel_y = np.array([[1, 2, 1], [0, 0, 0], [-1, -2, -1]],dtype=np.float64)\n",
    "\n",
    "# Initialize other parameters\n",
    "gamma = 0.42\n",
    "dt = 0.1\n",
    "lambda_value = 0.1\n",
    "\n",
    "# Function to compute g(s)\n",
    "def g(s):\n",
    "    squared_term = np.clip(s**2 + lambda_value**2, a_min=None, a_max=1e3)  # Clip to a reasonable maximum value\n",
    "    return 1 / (1 + squared_term)\n",
    "\n",
    "# Function to denoise the image using the given kernels\n",
    "def denoise_image(image, less, kerx, kery):\n",
    "    k_u_x = cv2.filter2D(image, -1, kerx)\n",
    "    phi_x = k_u_x*g(k_u_x)\n",
    "    phi_x = np.clip(phi_x, 0, 1)\n",
    "    p_x = dt * phi_x\n",
    "    ans_x = (((2 + gamma)*image) - less + p_x)/(1+gamma)\n",
    "    \n",
    "    k_u_y = cv2.filter2D(image, -1, kery)\n",
    "    phi_y = k_u_y*g(k_u_y)\n",
    "    phi_y = np.clip(phi_y, 0, 1)\n",
    "    p_y = dt * phi_y\n",
    "    ans_y = (((2 + gamma)*image) - less + p_y)/(1+gamma)\n",
    "    \n",
    "    ans = (ans_x + ans_y)/2.0\n",
    "    return ans\n",
    "\n",
    "# Optimization loop to learn the kernels\n",
    "num_iterations = 100\n",
    "learning_rate = 0.01\n",
    "\n",
    "for iteration in tqdm(range(num_iterations), desc=\"Optimizing Kernels\"):\n",
    "    \n",
    "    mse_sum = 0.0\n",
    "    \n",
    "    for noisy_file, clean_file in zip(noisy_image_files, clean_image_files):\n",
    "        noisy_path = os.path.join(noisy_folder, noisy_file)\n",
    "        clean_path = os.path.join(clean_folder, clean_file)\n",
    "\n",
    "        noisy_image = cv2.imread(noisy_path, 0)\n",
    "        clean_image = cv2.imread(clean_path, 0)\n",
    "        noisy_image = noisy_image.astype(np.float32) / 255.0\n",
    "        \n",
    "#         padding = (kernel_x.shape[0] - 1) // 2     #make 1 to padding to go back\n",
    "        kerx_pad = np.pad(kernel_x, 1, 'constant')\n",
    "        kery_pad = np.pad(kernel_y, 1, 'constant')\n",
    "\n",
    "        denoised_image = noisy_image.copy()\n",
    "        img_less = noisy_image.copy()\n",
    "        \n",
    "        for _ in range(20):\n",
    "            temp = denoised_image.copy()\n",
    "            denoised_image = denoise_image(denoised_image, img_less, kerx_pad, kery_pad)\n",
    "            img_less = temp.copy()\n",
    "        \n",
    "#         print('Denoised image shape: '+ str(denoised_image.shape))\n",
    "#         print('Clean image shape: ' + str(clean_image.shape))\n",
    "\n",
    "        # Compute the gradient for kernel_x\n",
    "        grad_x = cv2.filter2D(denoised_image - clean_image, -1, cv2.flip(kerx_pad, -1))\n",
    "\n",
    "        # Compute the gradient for kernel_y\n",
    "        grad_y = cv2.filter2D(denoised_image - clean_image, -1, cv2.flip(kery_pad, -1)) \n",
    "        \n",
    "#         print('kerx_pad shape: '+ str(kerx_pad.shape))\n",
    "#         print('grad_x shape: ' + str(grad_x.shape))\n",
    "#         print('kery_pad shape: '+ str(kery_pad.shape))\n",
    "#         print('grad_y shape: ' + str(grad_y.shape))\n",
    "#         print(grad_x[3:6,3:6])\n",
    "#         print(grad_y[3:6,3:6])\n",
    "\n",
    "        # Extract the central region (e.g., 90x90 pixels) for updating the kernels\n",
    "        central_region_size = 3\n",
    "        central_row_start = (grad_x.shape[0] - central_region_size) // 2\n",
    "        central_col_start = (grad_x.shape[1] - central_region_size) // 2\n",
    "        central_grad_x = grad_x[central_row_start:central_row_start + central_region_size,\n",
    "                                central_col_start:central_col_start + central_region_size]\n",
    "        central_grad_y = grad_y[central_row_start:central_row_start + central_region_size,\n",
    "                                central_col_start:central_col_start + central_region_size]\n",
    "\n",
    "        # Update the kernels using the central gradients and learning rate, only if gradients are not all zero\n",
    "        if np.any(central_grad_x != 0) and np.any(central_grad_y != 0):\n",
    "            kernel_x -= learning_rate * central_grad_x\n",
    "            kernel_y -= learning_rate * central_grad_y\n",
    "        \n",
    "        # Calculate the MSE for this denoised image and accumulate\n",
    "        mse = np.mean((denoised_image - clean_image)**2)\n",
    "        mse_sum += mse\n"
   ]
  },
  {
   "cell_type": "code",
   "execution_count": 2,
   "id": "4c5950e3",
   "metadata": {},
   "outputs": [],
   "source": [
    "\n",
    "# Denoise the noisy images using the learned kernels\n",
    "output_folder = 'both_perona'\n",
    "if not os.path.exists(output_folder):\n",
    "    os.makedirs(output_folder)\n",
    "\n",
    "for noisy_file in noisy_image_files:\n",
    "    noisy_path = os.path.join(noisy_folder, noisy_file)\n",
    "    noisy_image = cv2.imread(noisy_path, 0)\n",
    "    noisy_image = noisy_image.astype(np.float32) / 255.0\n",
    "    \n",
    "    denoised_image = noisy_image.copy()\n",
    "    img_less = noisy_image.copy()\n",
    "\n",
    "    for _ in range(20):\n",
    "        temp = denoised_image.copy()\n",
    "        denoised_image = denoise_image(denoised_image, img_less, kerx_pad, kery_pad)\n",
    "        img_less = temp.copy()\n",
    "\n",
    "    output_path = os.path.join(output_folder, f'{noisy_file}')\n",
    "    cv2.imwrite(output_path, denoised_image * 255.0)"
   ]
  }
 ],
 "metadata": {
  "kernelspec": {
   "display_name": "Python 3 (ipykernel)",
   "language": "python",
   "name": "python3"
  },
  "language_info": {
   "codemirror_mode": {
    "name": "ipython",
    "version": 3
   },
   "file_extension": ".py",
   "mimetype": "text/x-python",
   "name": "python",
   "nbconvert_exporter": "python",
   "pygments_lexer": "ipython3",
   "version": "3.9.13"
  }
 },
 "nbformat": 4,
 "nbformat_minor": 5
}
