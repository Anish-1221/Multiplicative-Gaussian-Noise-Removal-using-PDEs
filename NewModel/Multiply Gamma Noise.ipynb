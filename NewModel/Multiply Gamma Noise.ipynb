{
 "cells": [
  {
   "cell_type": "code",
   "execution_count": 3,
   "id": "c55d3dfa",
   "metadata": {},
   "outputs": [
    {
     "data": {
      "text/plain": [
       "True"
      ]
     },
     "execution_count": 3,
     "metadata": {},
     "output_type": "execute_result"
    }
   ],
   "source": [
    "import numpy as np\n",
    "import cv2\n",
    "import matplotlib.pyplot as plt\n",
    "\n",
    "# Read the input image\n",
    "input_image = cv2.imread('lena_clean.png', cv2.IMREAD_GRAYSCALE)\n",
    "input_image = input_image.astype(float) / 255.0  # Convert to floating-point and normalize\n",
    "\n",
    "# Resize the input image to 524x524\n",
    "input_image_resized = cv2.resize(input_image, (524, 524))\n",
    "\n",
    "# Parameters for gamma noise\n",
    "L = 5  # Shape parameter for gamma distribution\n",
    "\n",
    "# Generate gamma-distributed random noise\n",
    "gamma_noise = np.random.gamma(L, 1/L, input_image_resized.shape)\n",
    "\n",
    "# Apply gamma noise to the input image\n",
    "noisy_input_image = input_image_resized * gamma_noise\n",
    "\n",
    "# Clip values to [0, 1] range (in case noise pushes values beyond this range)\n",
    "noisy_input_image = np.clip(noisy_input_image, 0, 1)\n",
    "\n",
    "# Resize the noisy image to 180x180\n",
    "noisy_image_resized = cv2.resize(noisy_input_image, (180, 180))\n",
    "\n",
    "# Save the input image with the original name\n",
    "input_image_resized = cv2.resize(input_image_resized,(180,180))\n",
    "cv2.imwrite('lena_clean.png', (input_image_resized * 255).astype(np.uint8))\n",
    "\n",
    "# Save the noisy image\n",
    "cv2.imwrite('test.png', (noisy_image_resized * 255).astype(np.uint8))"
   ]
  }
 ],
 "metadata": {
  "kernelspec": {
   "display_name": "Python 3 (ipykernel)",
   "language": "python",
   "name": "python3"
  },
  "language_info": {
   "codemirror_mode": {
    "name": "ipython",
    "version": 3
   },
   "file_extension": ".py",
   "mimetype": "text/x-python",
   "name": "python",
   "nbconvert_exporter": "python",
   "pygments_lexer": "ipython3",
   "version": "3.9.13"
  }
 },
 "nbformat": 4,
 "nbformat_minor": 5
}
