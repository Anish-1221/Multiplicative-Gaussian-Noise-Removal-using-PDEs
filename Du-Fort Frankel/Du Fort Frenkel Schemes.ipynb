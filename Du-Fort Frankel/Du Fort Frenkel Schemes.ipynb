{
 "cells": [
  {
   "cell_type": "code",
   "execution_count": 4,
   "id": "54cf2b54",
   "metadata": {},
   "outputs": [
    {
     "data": {
      "text/plain": [
       "True"
      ]
     },
     "execution_count": 4,
     "metadata": {},
     "output_type": "execute_result"
    }
   ],
   "source": [
    "import numpy as np\n",
    "import cv2\n",
    "\n",
    "# Define the parameters\n",
    "dt = 0.1  # Time step\n",
    "kernel = np.array([[0, 1, 0], [1, -4, 1], [0, 1, 0]])\n",
    "\n",
    "# Define the hyperparameters\n",
    "lambda_value = 0.1\n",
    "alpha = 5\n",
    "\n",
    "# Function to compute g(s^2)\n",
    "def g(s_squared):\n",
    "    return 1 / (1 + (s_squared + lambda_value**2))\n",
    "\n",
    "# Function to apply the update rule\n",
    "def denoise_image(image, prev_image, kernel):\n",
    "    k_u = cv2.filter2D(image, -1, kernel)\n",
    "    phi = k_u * g(k_u**2)\n",
    "    kt_phi = cv2.filter2D(phi, -1, kernel)\n",
    "    return ((4 * dt * alpha) / (1 + (2 * dt * alpha))) * (image - ((0.5 / alpha) * kt_phi)) + (((1 - (2 * dt * alpha)) * prev_image) / (1 + (2 * dt * alpha)))\n",
    "\n",
    "# Load the image\n",
    "image = cv2.imread('noisy_cameraman.jpg', 0)\n",
    "image = image.astype(np.float32) / 255.0\n",
    "\n",
    "prev_image = image.copy()\n",
    "denoised_image = image.copy()\n",
    "\n",
    "for _ in range(10):\n",
    "    temp_image = denoised_image.copy()\n",
    "    denoised_image = denoise_image(denoised_image, prev_image, kernel)\n",
    "    prev_image = temp_image\n",
    "\n",
    "# Adjust brightness and contrast\n",
    "denoised_image = cv2.normalize(denoised_image, None, 0, 1, cv2.NORM_MINMAX)\n",
    "\n",
    "cv2.imwrite('denoised_duFortFrankel.jpg', denoised_image * 255.0)"
   ]
  },
  {
   "cell_type": "code",
   "execution_count": 64,
   "id": "0d316e7c",
   "metadata": {},
   "outputs": [
    {
     "data": {
      "text/plain": [
       "True"
      ]
     },
     "execution_count": 64,
     "metadata": {},
     "output_type": "execute_result"
    }
   ],
   "source": [
    "import numpy as np\n",
    "import cv2\n",
    "\n",
    "# Define the parameters\n",
    "dt = 0.1  # Time step\n",
    "kernel = np.array([[0, 1, 0], [1, -4, 1], [0, 1, 0]])\n",
    "\n",
    "# Define the hyperparameters\n",
    "lambda_value = 0.1\n",
    "alpha = 2\n",
    "\n",
    "def relu(x):\n",
    "    return np.maximum(0, x)\n",
    "\n",
    "# Function to compute phi(x) using ReLU activation\n",
    "def g(x):\n",
    "    return relu(x)\n",
    "\n",
    "# Function to apply the update rule\n",
    "def denoise_image(image, prev_image, kernel):\n",
    "    k_u = cv2.filter2D(image, -1, kernel)\n",
    "    phi = k_u * g(k_u)\n",
    "    kt_phi = cv2.filter2D(phi, -1, kernel)\n",
    "    return image - ((4 * dt * alpha) / (1 + (2 * dt * alpha))) * (image - ((0.5 / alpha) * phi)) + (((1 - (2 * dt * alpha)) * prev_image) / (1 + (2 * dt * alpha)))\n",
    "\n",
    "# Load the image\n",
    "image = cv2.imread('noisy_cameraman.jpg', 0)\n",
    "image = image.astype(np.float32) / 255.0\n",
    "\n",
    "prev_image = image.copy()\n",
    "denoised_image = image.copy()\n",
    "\n",
    "for _ in range(10):\n",
    "    temp_image = denoised_image.copy()\n",
    "    denoised_image = denoise_image(denoised_image, prev_image, kernel_padded)\n",
    "    prev_image = temp_image\n",
    "\n",
    "# Adjust brightness and contrast\n",
    "denoised_image = cv2.normalize(denoised_image, None, 0, 1, cv2.NORM_MINMAX)\n",
    "\n",
    "cv2.imwrite('denoised_duFortFrankel2.jpg', denoised_image * 255.0)"
   ]
  },
  {
   "cell_type": "code",
   "execution_count": 62,
   "id": "c87ff94f",
   "metadata": {},
   "outputs": [
    {
     "name": "stderr",
     "output_type": "stream",
     "text": [
      "C:\\Users\\anish\\AppData\\Local\\Temp\\ipykernel_34476\\254551280.py:19: RuntimeWarning: overflow encountered in square\n",
      "  phi = k_u * g(k_u**2)\n",
      "C:\\Users\\anish\\AppData\\Local\\Temp\\ipykernel_34476\\254551280.py:21: RuntimeWarning: invalid value encountered in subtract\n",
      "  return image - ((4 * dt * alpha) / (1 + (2 * dt * alpha))) * (image - ((0.5 / alpha) * phi)) + (((1 - (2 * dt * alpha)) * prev_image) / (1 + (2 * dt * alpha)))\n"
     ]
    },
    {
     "data": {
      "text/plain": [
       "True"
      ]
     },
     "execution_count": 62,
     "metadata": {},
     "output_type": "execute_result"
    }
   ],
   "source": [
    "import numpy as np\n",
    "import cv2\n",
    "\n",
    "# Define the parameters\n",
    "dt = 0.1  # Time step\n",
    "kernel = np.array([[0, 1, 0], [1, -4, 1], [0, 1, 0]])\n",
    "\n",
    "# Define the hyperparameters\n",
    "lambda_value = 0.1\n",
    "alpha = 2\n",
    "\n",
    "# Function to compute g(s^2)\n",
    "def g(s_squared):\n",
    "    return np.sqrt(s_squared+lambda_value**2)\n",
    "\n",
    "# Function to apply the update rule\n",
    "def denoise_image(image, prev_image, kernel):\n",
    "    k_u = cv2.filter2D(image, -1, kernel)\n",
    "    phi = k_u * g(k_u**2)\n",
    "    kt_phi = cv2.filter2D(phi, -1, kernel)\n",
    "    return image - ((4 * dt * alpha) / (1 + (2 * dt * alpha))) * (image - ((0.5 / alpha) * phi)) + (((1 - (2 * dt * alpha)) * prev_image) / (1 + (2 * dt * alpha)))\n",
    "\n",
    "# Load the image\n",
    "image = cv2.imread('noisy_cameraman.jpg', 0)\n",
    "image = image.astype(np.float32) / 255.0\n",
    "\n",
    "prev_image = image.copy()\n",
    "denoised_image = image.copy()\n",
    "\n",
    "for _ in range(10):\n",
    "    temp_image = denoised_image.copy()\n",
    "    denoised_image = denoise_image(denoised_image, prev_image, kernel_padded)\n",
    "    prev_image = temp_image\n",
    "\n",
    "# Adjust brightness and contrast\n",
    "denoised_image = cv2.normalize(denoised_image, None, 0, 1, cv2.NORM_MINMAX)\n",
    "\n",
    "cv2.imwrite('denoised_duFortFrankel2.jpg', denoised_image * 255.0)"
   ]
  }
 ],
 "metadata": {
  "kernelspec": {
   "display_name": "Python 3 (ipykernel)",
   "language": "python",
   "name": "python3"
  },
  "language_info": {
   "codemirror_mode": {
    "name": "ipython",
    "version": 3
   },
   "file_extension": ".py",
   "mimetype": "text/x-python",
   "name": "python",
   "nbconvert_exporter": "python",
   "pygments_lexer": "ipython3",
   "version": "3.9.13"
  }
 },
 "nbformat": 4,
 "nbformat_minor": 5
}
