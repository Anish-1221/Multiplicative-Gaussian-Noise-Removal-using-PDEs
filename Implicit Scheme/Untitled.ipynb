{
 "cells": [
  {
   "cell_type": "code",
   "execution_count": 2,
   "id": "79c52ad4",
   "metadata": {},
   "outputs": [],
   "source": [
    "from scipy.signal import convolve2d"
   ]
  },
  {
   "cell_type": "code",
   "execution_count": 13,
   "id": "5bc14079",
   "metadata": {},
   "outputs": [
    {
     "data": {
      "text/plain": [
       "True"
      ]
     },
     "execution_count": 13,
     "metadata": {},
     "output_type": "execute_result"
    }
   ],
   "source": [
    "import numpy as np\n",
    "import cv2\n",
    "\n",
    "# Define the parameters\n",
    "dt = 0.1  # Time step\n",
    "kernel = np.array([[0, 1, 0], [1, -4, 1], [0, 1, 0]])\n",
    "L = 10\n",
    "\n",
    "# Pad the kernel to match the size of the image\n",
    "# padding = (kernel.shape[0] - 1) // 2\n",
    "# kernel_padded = np.pad(kernel, padding, 'constant')\n",
    "\n",
    "# Define the hyperparameter lambda\n",
    "lambda_value = 0.01\n",
    "\n",
    "# Function to compute g(s^2)\n",
    "def g(s_squared):\n",
    "    return 1 / (1 + (s_squared + lambda_value**2))\n",
    "\n",
    "# Function to apply the update rule\n",
    "def denoise_image(image, kernel):\n",
    "    temp_image = image.copy()\n",
    "    output = temp_image.copy()\n",
    "    for i in range(L):\n",
    "        temp_image = output.copy()\n",
    "        k_u = convolve2d(temp_image, kernel, mode='same')\n",
    "        phi = k_u*g(k_u**2)\n",
    "        p = dt * convolve2d(phi, kernel, mode='same')\n",
    "        output = image - p\n",
    "    \n",
    "    return output\n",
    "\n",
    "# Load the image\n",
    "image = cv2.imread('noisy_cameraman.jpg', 0)\n",
    "image = image.astype(np.float32) / 255.0\n",
    "\n",
    "denoised_image = image.copy()\n",
    "for _ in range(20):\n",
    "    denoised_image = denoise_image(denoised_image, kernel)\n",
    "\n",
    "cv2.imwrite('denoised_peronaMalik.jpg', denoised_image * 255.0)"
   ]
  },
  {
   "cell_type": "markdown",
   "id": "60c77046",
   "metadata": {},
   "source": [
    "## Test"
   ]
  },
  {
   "cell_type": "code",
   "execution_count": 14,
   "id": "9c3a3821",
   "metadata": {},
   "outputs": [
    {
     "ename": "ValueError",
     "evalue": "operands could not be broadcast together with shapes (280,272) (5,5) ",
     "output_type": "error",
     "traceback": [
      "\u001b[1;31m---------------------------------------------------------------------------\u001b[0m",
      "\u001b[1;31mValueError\u001b[0m                                Traceback (most recent call last)",
      "\u001b[1;32m~\\AppData\\Local\\Temp\\ipykernel_14348\\3720848204.py\u001b[0m in \u001b[0;36m<module>\u001b[1;34m\u001b[0m\n\u001b[0;32m     35\u001b[0m \u001b[1;33m\u001b[0m\u001b[0m\n\u001b[0;32m     36\u001b[0m \u001b[1;31m# Denoise the image\u001b[0m\u001b[1;33m\u001b[0m\u001b[1;33m\u001b[0m\u001b[0m\n\u001b[1;32m---> 37\u001b[1;33m \u001b[0mdenoised_image\u001b[0m \u001b[1;33m=\u001b[0m \u001b[0mdenoise_image\u001b[0m\u001b[1;33m(\u001b[0m\u001b[0mimage\u001b[0m\u001b[1;33m,\u001b[0m \u001b[0mkernel_padded\u001b[0m\u001b[1;33m,\u001b[0m \u001b[0mL\u001b[0m\u001b[1;33m,\u001b[0m \u001b[0mdt\u001b[0m\u001b[1;33m)\u001b[0m\u001b[1;33m\u001b[0m\u001b[1;33m\u001b[0m\u001b[0m\n\u001b[0m\u001b[0;32m     38\u001b[0m \u001b[1;33m\u001b[0m\u001b[0m\n\u001b[0;32m     39\u001b[0m \u001b[1;31m# Save the denoised image\u001b[0m\u001b[1;33m\u001b[0m\u001b[1;33m\u001b[0m\u001b[0m\n",
      "\u001b[1;32m~\\AppData\\Local\\Temp\\ipykernel_14348\\3720848204.py\u001b[0m in \u001b[0;36mdenoise_image\u001b[1;34m(image, kernel, L, dt)\u001b[0m\n\u001b[0;32m     25\u001b[0m         \u001b[0mk_u\u001b[0m \u001b[1;33m=\u001b[0m \u001b[0mconvolve2d\u001b[0m\u001b[1;33m(\u001b[0m\u001b[0mtemp_image\u001b[0m\u001b[1;33m,\u001b[0m \u001b[0mkernel\u001b[0m\u001b[1;33m,\u001b[0m \u001b[0mmode\u001b[0m\u001b[1;33m=\u001b[0m\u001b[1;34m'same'\u001b[0m\u001b[1;33m)\u001b[0m\u001b[1;33m\u001b[0m\u001b[1;33m\u001b[0m\u001b[0m\n\u001b[0;32m     26\u001b[0m         \u001b[0mphi\u001b[0m \u001b[1;33m=\u001b[0m \u001b[0mg\u001b[0m\u001b[1;33m(\u001b[0m\u001b[0mk_u\u001b[0m\u001b[1;33m**\u001b[0m\u001b[1;36m2\u001b[0m\u001b[1;33m)\u001b[0m \u001b[1;33m*\u001b[0m \u001b[0mk_u\u001b[0m\u001b[1;33m\u001b[0m\u001b[1;33m\u001b[0m\u001b[0m\n\u001b[1;32m---> 27\u001b[1;33m         \u001b[0mp\u001b[0m \u001b[1;33m=\u001b[0m \u001b[0mdt\u001b[0m \u001b[1;33m*\u001b[0m \u001b[0mphi\u001b[0m \u001b[1;33m*\u001b[0m \u001b[0mkernel\u001b[0m\u001b[1;31m#convolve2d(phi, kernel, mode='same')\u001b[0m\u001b[1;33m\u001b[0m\u001b[1;33m\u001b[0m\u001b[0m\n\u001b[0m\u001b[0;32m     28\u001b[0m         \u001b[0mtemp_image\u001b[0m \u001b[1;33m=\u001b[0m \u001b[0mimage\u001b[0m \u001b[1;33m+\u001b[0m \u001b[0mp\u001b[0m\u001b[1;33m\u001b[0m\u001b[1;33m\u001b[0m\u001b[0m\n\u001b[0;32m     29\u001b[0m \u001b[1;33m\u001b[0m\u001b[0m\n",
      "\u001b[1;31mValueError\u001b[0m: operands could not be broadcast together with shapes (280,272) (5,5) "
     ]
    }
   ],
   "source": [
    "import numpy as np\n",
    "import cv2\n",
    "from scipy.signal import convolve2d\n",
    "\n",
    "# Define the parameters\n",
    "dt = 0.1  # Time step\n",
    "kernel = np.array([[0, 1, 0], [1, -4, 1], [0, 1, 0]])\n",
    "L = 20\n",
    "\n",
    "# Pad the kernel to match the size of the image\n",
    "padding = (kernel.shape[0] - 1) // 2\n",
    "kernel_padded = np.pad(kernel, padding, mode='constant')\n",
    "\n",
    "# Define the hyperparameter lambda\n",
    "lambda_value = 0.1\n",
    "\n",
    "# Function to compute g(s^2)\n",
    "def g(s_squared):\n",
    "    return 1 / (1 + (s_squared + lambda_value**2))\n",
    "\n",
    "# Function to apply the update rule\n",
    "def denoise_image(image, kernel, L, dt):\n",
    "    temp_image = image.copy()\n",
    "    for l in range(L):\n",
    "        k_u = convolve2d(temp_image, kernel, mode='same')\n",
    "        phi = g(k_u**2) * k_u\n",
    "        p = dt * convolve2d(phi, kernel, mode='same')\n",
    "        temp_image = image + p\n",
    "    \n",
    "    return temp_image\n",
    "\n",
    "# Load the image\n",
    "image = cv2.imread('noisy_cameraman.jpg', 0)\n",
    "image = image.astype(np.float32) / 255.0\n",
    "\n",
    "# Denoise the image\n",
    "denoised_image = denoise_image(image, kernel_padded, L, dt)\n",
    "\n",
    "# Save the denoised image\n",
    "cv2.imwrite('denoised_test.jpg', denoised_image * 255.0)\n"
   ]
  },
  {
   "cell_type": "code",
   "execution_count": 16,
   "id": "713e5184",
   "metadata": {},
   "outputs": [
    {
     "data": {
      "text/plain": [
       "True"
      ]
     },
     "execution_count": 16,
     "metadata": {},
     "output_type": "execute_result"
    }
   ],
   "source": [
    "import numpy as np\n",
    "import cv2\n",
    "\n",
    "# Define the parameters\n",
    "dt = 0.1  # Time step\n",
    "kernel = np.array([[0, 1, 0], [1, -4, 1], [0, 1, 0]])\n",
    "L = 1\n",
    "\n",
    "# Define the hyperparameter lambda\n",
    "lambda_value = 0.01\n",
    "\n",
    "# Function to compute g(s^2)\n",
    "def g(s_squared):\n",
    "    return 1 / (1 + (s_squared / lambda_value**2))\n",
    "\n",
    "# Function to apply the update rule\n",
    "def denoise_image(image, kernel):\n",
    "    temp_image = image.copy()\n",
    "    output = temp_image.copy()\n",
    "    for i in range(L):\n",
    "        k_u = cv2.filter2D(temp_image, -1, kernel)\n",
    "        phi = g(k_u**2) * k_u\n",
    "        p = dt * cv2.filter2D(phi, -1, kernel)\n",
    "        output = temp_image + p\n",
    "        temp_image = output.copy()  # Update temp_image with the latest output\n",
    "    \n",
    "    return output\n",
    "\n",
    "# Load the image\n",
    "image = cv2.imread('noisy_cameraman.jpg', 0)\n",
    "image = image.astype(np.float32) / 255.0\n",
    "\n",
    "denoised_image = image.copy()\n",
    "for _ in range(20):\n",
    "    denoised_image = denoise_image(denoised_image, kernel)\n",
    "\n",
    "cv2.imwrite('denoised_peronaMalik.jpg', denoised_image * 255.0)"
   ]
  },
  {
   "cell_type": "markdown",
   "id": "30732c98",
   "metadata": {},
   "source": [
    "## Test End"
   ]
  },
  {
   "cell_type": "code",
   "execution_count": 8,
   "id": "723640dd",
   "metadata": {},
   "outputs": [
    {
     "data": {
      "text/plain": [
       "True"
      ]
     },
     "execution_count": 8,
     "metadata": {},
     "output_type": "execute_result"
    }
   ],
   "source": [
    "import numpy as np\n",
    "import cv2\n",
    "\n",
    "# Define the parameters\n",
    "dt = 0.1  # Time step\n",
    "kernel = np.array([[0, 1, 0], [1, -4, 1], [0, 1, 0]])\n",
    "L = 200\n",
    "\n",
    "# Pad the kernel to match the size of the image\n",
    "padding = (kernel.shape[0] - 1) // 2\n",
    "kernel_padded = np.pad(kernel, padding, 'constant')\n",
    "\n",
    "# ReLU activation function\n",
    "def relu(x):\n",
    "    return np.maximum(0, x)\n",
    "\n",
    "# Function to compute phi(x) using ReLU activation\n",
    "def g(x):\n",
    "    return relu(x)\n",
    "\n",
    "# Function to apply the update rule\n",
    "def denoise_image(image, kernel):\n",
    "    temp_image = image.copy()\n",
    "    output = temp_image.copy()\n",
    "    for i in range(L):\n",
    "        temp_image = output.copy()\n",
    "        k_u = cv2.filter2D(temp_image, -1, kernel)\n",
    "        phi = k_u*g(k_u)\n",
    "        p = dt * phi\n",
    "        output = image + p\n",
    "    \n",
    "    return output\n",
    "\n",
    "# Load the image\n",
    "image = cv2.imread('noisy_cameraman.jpg', 0)\n",
    "image = image.astype(np.float32) / 255.0\n",
    "\n",
    "denoised_image = image.copy()\n",
    "for _ in range(20):\n",
    "    denoised_image = denoise_image(denoised_image, kernel_padded)\n",
    "\n",
    "cv2.imwrite('denoised_ReLU.jpg', denoised_image * 255.0)"
   ]
  },
  {
   "cell_type": "code",
   "execution_count": 9,
   "id": "7a4de096",
   "metadata": {},
   "outputs": [
    {
     "data": {
      "text/plain": [
       "True"
      ]
     },
     "execution_count": 9,
     "metadata": {},
     "output_type": "execute_result"
    }
   ],
   "source": [
    "import numpy as np\n",
    "import cv2\n",
    "\n",
    "# Define the parameters\n",
    "dt = 0.1  # Time step\n",
    "kernel = np.array([[0, 1, 0], [1, -4, 1], [0, 1, 0]])\n",
    "L = 200\n",
    "\n",
    "# Pad the kernel to match the size of the image\n",
    "padding = (kernel.shape[0] - 1) // 2\n",
    "kernel_padded = np.pad(kernel, padding, 'constant')\n",
    "\n",
    "# Define the hyperparameter lambda\n",
    "lambda_value = 0.1\n",
    "\n",
    "# Function to compute g(s^2)\n",
    "def g(s_squared):\n",
    "    denom = np.sqrt(1 + s_squared/lambda_value**2)\n",
    "    return np.sqrt(s_squared)/denom\n",
    "\n",
    "# Function to apply the update rule\n",
    "def denoise_image(image, kernel):\n",
    "    temp_image = image.copy()\n",
    "    output = temp_image.copy()\n",
    "    for i in range(L):\n",
    "        temp_image = output.copy()\n",
    "        k_u = cv2.filter2D(temp_image, -1, kernel)\n",
    "        phi = k_u*g(k_u**2)\n",
    "        p = dt * phi\n",
    "        output = image + p\n",
    "    \n",
    "    return output\n",
    "\n",
    "# Load the image\n",
    "image = cv2.imread('noisy_cameraman.jpg', 0)\n",
    "image = image.astype(np.float32) / 255.0\n",
    "\n",
    "denoised_image = image.copy()\n",
    "for _ in range(20):\n",
    "    denoised_image = denoise_image(denoised_image, kernel_padded)\n",
    "\n",
    "cv2.imwrite('denoised_charbonier.jpg', denoised_image * 255.0)"
   ]
  }
 ],
 "metadata": {
  "kernelspec": {
   "display_name": "Python 3 (ipykernel)",
   "language": "python",
   "name": "python3"
  },
  "language_info": {
   "codemirror_mode": {
    "name": "ipython",
    "version": 3
   },
   "file_extension": ".py",
   "mimetype": "text/x-python",
   "name": "python",
   "nbconvert_exporter": "python",
   "pygments_lexer": "ipython3",
   "version": "3.9.13"
  }
 },
 "nbformat": 4,
 "nbformat_minor": 5
}
