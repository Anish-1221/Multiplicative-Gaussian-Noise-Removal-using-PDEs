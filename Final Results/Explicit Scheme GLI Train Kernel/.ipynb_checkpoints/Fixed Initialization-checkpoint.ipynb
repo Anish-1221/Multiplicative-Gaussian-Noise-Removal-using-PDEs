{
 "cells": [
  {
   "cell_type": "markdown",
   "id": "1b5ce709",
   "metadata": {},
   "source": [
    "#### Kernel using 4 neighbors"
   ]
  },
  {
   "cell_type": "code",
   "execution_count": 10,
   "id": "1c4372f8",
   "metadata": {},
   "outputs": [
    {
     "name": "stderr",
     "output_type": "stream",
     "text": [
      "Training Kernel:   1%|▍                                                        | 3/400 [1:36:00<211:44:21, 1920.05s/it]\n"
     ]
    },
    {
     "data": {
      "text/plain": [
       "True"
      ]
     },
     "execution_count": 10,
     "metadata": {},
     "output_type": "execute_result"
    }
   ],
   "source": [
    "import os\n",
    "import numpy as np\n",
    "import cv2\n",
    "from scipy.optimize import minimize\n",
    "from tqdm import tqdm\n",
    "\n",
    "# Define the parameters\n",
    "dt = 0.1  # Time step\n",
    "initial_kernel = np.array([[0, 1, 0], [1, -4, 1], [0, 1, 0]])  # Initial kernel\n",
    "\n",
    "# Pad the kernel to match the size of the image\n",
    "padding = (initial_kernel.shape[0] - 1) // 2\n",
    "initial_kernel_padded = np.pad(initial_kernel, padding, 'constant')\n",
    "\n",
    "# Define the hyperparameter lambda\n",
    "lambda_value = 0.1\n",
    "\n",
    "\n",
    "# Objective function to minimize\n",
    "def objective_function(kernel_params, clean_images, noisy_images):\n",
    "    kernel = kernel_params.reshape((3, 3))\n",
    "    kernel_padded = np.pad(kernel, padding, 'constant')\n",
    "    error = 0\n",
    "    for clean_image, noisy_image in zip(clean_images, noisy_images):\n",
    "        denoised_image = noisy_image.copy()\n",
    "        for _ in range(20):\n",
    "            denoised_image = denoise_image(denoised_image, kernel_padded)\n",
    "        error += np.mean((denoised_image - clean_image) ** 2)  # Example error metric (MSE)\n",
    "    return error\n",
    "\n",
    "alpha_gli = 1.7\n",
    "\n",
    "def gray_level(image_matrix):\n",
    "    return (image_matrix/np.max(image_matrix))**alpha_gli\n",
    "\n",
    "# Function to compute g(s^2)\n",
    "def g(s_squared):\n",
    "    return 1 / (1 + (s_squared + lambda_value**2))\n",
    "\n",
    "# Function to apply the update rule\n",
    "def denoise_image(image, kernel):\n",
    "    k_u = cv2.filter2D(image, -1, kernel)\n",
    "    gli = gray_level(np.abs(k_u))\n",
    "    phi = k_u*g(k_u**2)*gli\n",
    "    p = dt * phi \n",
    "    return image + p\n",
    "\n",
    "# Load the training images (clean and noisy) from separate directories\n",
    "clean_dir = 'clean_images'\n",
    "noisy_dir = 'gaussian_0.8'\n",
    "\n",
    "clean_images = []\n",
    "noisy_images = []\n",
    "\n",
    "for filename in os.listdir(clean_dir):\n",
    "    if filename.endswith('.jpg') or filename.endswith('.png'):\n",
    "        clean_image = cv2.imread(os.path.join(clean_dir, filename), 0)\n",
    "        clean_image = clean_image.astype(np.float32) / 255.0\n",
    "        clean_images.append(clean_image)\n",
    "\n",
    "        noisy_image = cv2.imread(os.path.join(noisy_dir, filename), 0)\n",
    "        noisy_image = noisy_image.astype(np.float32) / 255.0\n",
    "        noisy_images.append(noisy_image)\n",
    "\n",
    "# Flatten initial kernel for optimization\n",
    "initial_params = initial_kernel.flatten()\n",
    "\n",
    "# Optimize the kernel parameters with tqdm progress bar\n",
    "with tqdm(total=len(clean_images), desc='Training Kernel') as pbar:\n",
    "    def update_progress(_):\n",
    "        pbar.update(1)\n",
    "\n",
    "    # Optimize the kernel parameters\n",
    "    optimized_params = minimize(objective_function, initial_params, args=(clean_images, noisy_images),\n",
    "                                callback=update_progress)\n",
    "\n",
    "# Reshape optimized parameters to obtain the trained kernel\n",
    "trained_kernel = optimized_params.x.reshape((3, 3))\n",
    "\n",
    "# Pad the trained kernel\n",
    "trained_kernel_padded = np.pad(trained_kernel, padding, 'constant')\n",
    "\n",
    "# Load the test image\n",
    "test_image = cv2.imread('test_0.8.png', 0)\n",
    "test_image = test_image.astype(np.float32) / 255.0\n",
    "\n",
    "# Denoise the test image using the trained kernel\n",
    "denoised_image = test_image.copy()\n",
    "for _ in range(20):\n",
    "    denoised_image = denoise_image(denoised_image, trained_kernel_padded)\n",
    "\n",
    "cv2.imwrite('perona_0.8.jpg', denoised_image * 255.0)"
   ]
  },
  {
   "cell_type": "code",
   "execution_count": 2,
   "id": "076b0469",
   "metadata": {},
   "outputs": [
    {
     "name": "stdout",
     "output_type": "stream",
     "text": [
      "[[-0.00503362  1.          0.03465818]\n",
      " [ 1.         -4.          1.        ]\n",
      " [-0.04163609  1.         -0.03164073]]\n"
     ]
    }
   ],
   "source": [
    "print(trained_kernel)"
   ]
  },
  {
   "cell_type": "code",
   "execution_count": 11,
   "id": "45d9a9ad",
   "metadata": {},
   "outputs": [
    {
     "name": "stderr",
     "output_type": "stream",
     "text": [
      "Training Kernel:   1%|▌                                                        | 4/400 [1:21:47<134:57:22, 1226.87s/it]\n"
     ]
    },
    {
     "data": {
      "text/plain": [
       "True"
      ]
     },
     "execution_count": 11,
     "metadata": {},
     "output_type": "execute_result"
    }
   ],
   "source": [
    "import os\n",
    "import numpy as np\n",
    "import cv2\n",
    "from scipy.optimize import minimize\n",
    "from tqdm import tqdm\n",
    "\n",
    "# Define the parameters\n",
    "dt = 0.1  # Time step\n",
    "initial_kernel = np.array([[0, 1, 0], [1, -4, 1], [0, 1, 0]])  # Initial kernel\n",
    "\n",
    "# Pad the kernel to match the size of the image\n",
    "padding = (initial_kernel.shape[0] - 1) // 2\n",
    "initial_kernel_padded = np.pad(initial_kernel, padding, 'constant')\n",
    "\n",
    "# Define the hyperparameter lambda\n",
    "lambda_value = 0.1\n",
    "\n",
    "# ReLU activation function\n",
    "def relu(x):\n",
    "    return np.maximum(0, x)\n",
    "\n",
    "# Function to compute phi(x) using ReLU activation\n",
    "def g(x):\n",
    "    return relu(x)\n",
    "\n",
    "# Objective function to minimize\n",
    "def objective_function(kernel_params, clean_images, noisy_images):\n",
    "    kernel = kernel_params.reshape((3, 3))\n",
    "    kernel_padded = np.pad(kernel, padding, 'constant')\n",
    "    error = 0\n",
    "    for clean_image, noisy_image in zip(clean_images, noisy_images):\n",
    "        denoised_image = noisy_image.copy()\n",
    "        for _ in range(20):\n",
    "            denoised_image = denoise_image(denoised_image, kernel_padded)\n",
    "        error += np.mean((denoised_image - clean_image) ** 2)  # Example error metric (MSE)\n",
    "    return error\n",
    "\n",
    "alpha_gli = 1.7\n",
    "\n",
    "def gray_level(image_matrix):\n",
    "    return (image_matrix/np.max(image_matrix))**alpha_gli\n",
    "\n",
    "# Function to apply the update rule\n",
    "def denoise_image(image, kernel):\n",
    "    k_u = cv2.filter2D(image, -1, kernel)\n",
    "    gli = gray_level(np.abs(k_u))\n",
    "    phi = k_u*g(k_u)*gli\n",
    "    p = dt * phi \n",
    "    return np.clip(image + p, 0, 1)#return image + p    #return np.clip(image + p, 0, 1)\n",
    "\n",
    "# Load the training images (clean and noisy) from separate directories\n",
    "clean_dir = 'clean_images'\n",
    "noisy_dir = 'gaussian_0.8'\n",
    "\n",
    "clean_images = []\n",
    "noisy_images = []\n",
    "\n",
    "for filename in os.listdir(clean_dir):\n",
    "    if filename.endswith('.jpg') or filename.endswith('.png'):\n",
    "        clean_image = cv2.imread(os.path.join(clean_dir, filename), 0)\n",
    "        clean_image = clean_image.astype(np.float32) / 255.0\n",
    "        clean_images.append(clean_image)\n",
    "\n",
    "        noisy_image = cv2.imread(os.path.join(noisy_dir, filename), 0)\n",
    "        noisy_image = noisy_image.astype(np.float32) / 255.0\n",
    "        noisy_images.append(noisy_image)\n",
    "\n",
    "# Flatten initial kernel for optimization\n",
    "initial_params = initial_kernel.flatten()\n",
    "\n",
    "# Optimize the kernel parameters with tqdm progress bar\n",
    "with tqdm(total=len(clean_images), desc='Training Kernel') as pbar:\n",
    "    def update_progress(_):\n",
    "        pbar.update(1)\n",
    "\n",
    "    # Optimize the kernel parameters\n",
    "    optimized_params = minimize(objective_function, initial_params, args=(clean_images, noisy_images),\n",
    "                                callback=update_progress)\n",
    "\n",
    "# Reshape optimized parameters to obtain the trained kernel\n",
    "trained_kernel = optimized_params.x.reshape((3, 3))\n",
    "\n",
    "# Pad the trained kernel\n",
    "trained_kernel_padded = np.pad(trained_kernel, padding, 'constant')\n",
    "\n",
    "# Load the test image\n",
    "test_image = cv2.imread('test_0.8.png', 0)\n",
    "test_image = test_image.astype(np.float32) / 255.0\n",
    "\n",
    "# Denoise the test image using the trained kernel\n",
    "denoised_image = test_image.copy()\n",
    "for _ in range(20):\n",
    "    denoised_image = denoise_image(denoised_image, trained_kernel_padded)\n",
    "\n",
    "cv2.imwrite('relu_0.8.jpg', denoised_image * 255.0)"
   ]
  },
  {
   "cell_type": "code",
   "execution_count": 2,
   "id": "ddcb695f",
   "metadata": {},
   "outputs": [
    {
     "name": "stdout",
     "output_type": "stream",
     "text": [
      "[[-5.07001865e-11  1.00000000e+00 -2.39564167e-02]\n",
      " [ 1.00000000e+00 -4.00000000e+00  1.00000000e+00]\n",
      " [ 5.27041083e-01  1.00000000e+00  2.39564087e-02]]\n"
     ]
    }
   ],
   "source": [
    "print(trained_kernel)"
   ]
  },
  {
   "cell_type": "code",
   "execution_count": 12,
   "id": "50fd8e9e",
   "metadata": {},
   "outputs": [
    {
     "name": "stderr",
     "output_type": "stream",
     "text": [
      "Training Kernel:   1%|▌                                                        | 4/400 [1:14:03<122:12:35, 1111.00s/it]\n"
     ]
    },
    {
     "data": {
      "text/plain": [
       "True"
      ]
     },
     "execution_count": 12,
     "metadata": {},
     "output_type": "execute_result"
    }
   ],
   "source": [
    "import os\n",
    "import numpy as np\n",
    "import cv2\n",
    "from scipy.optimize import minimize\n",
    "from tqdm import tqdm\n",
    "\n",
    "# Define the parameters\n",
    "dt = 0.1  # Time step\n",
    "initial_kernel = np.array([[0, 1, 0], [1, -4, 1], [0, 1, 0]])  # Initial kernel\n",
    "\n",
    "# Pad the kernel to match the size of the image\n",
    "padding = (initial_kernel.shape[0] - 1) // 2\n",
    "initial_kernel_padded = np.pad(initial_kernel, padding, 'constant')\n",
    "\n",
    "# Define the hyperparameter lambda\n",
    "lambda_value = 0.1\n",
    "\n",
    "# Function to compute g(s^2)\n",
    "def g(s_squared):\n",
    "    denom = np.sqrt(1 + s_squared/lambda_value**2)\n",
    "    return np.sqrt(s_squared)/denom\n",
    "\n",
    "# Objective function to minimize\n",
    "def objective_function(kernel_params, clean_images, noisy_images):\n",
    "    kernel = kernel_params.reshape((3, 3))\n",
    "    kernel_padded = np.pad(kernel, padding, 'constant')\n",
    "    error = 0\n",
    "    for clean_image, noisy_image in zip(clean_images, noisy_images):\n",
    "        denoised_image = noisy_image.copy()\n",
    "        for _ in range(20):\n",
    "            denoised_image = denoise_image(denoised_image, kernel_padded)\n",
    "        error += np.mean((denoised_image - clean_image) ** 2)  # Example error metric (MSE)\n",
    "    return error\n",
    "\n",
    "alpha_gli = 1.7\n",
    "\n",
    "def gray_level(image_matrix):\n",
    "    return (image_matrix/np.max(image_matrix))**alpha_gli\n",
    "\n",
    "# Function to apply the update rule\n",
    "def denoise_image(image, kernel):\n",
    "    k_u = cv2.filter2D(image, -1, kernel)\n",
    "    gli = gray_level(np.abs(k_u))\n",
    "    phi = k_u*g(k_u**2)*gli\n",
    "    p = dt * phi \n",
    "    return image + p\n",
    "\n",
    "# Load the training images (clean and noisy) from separate directories\n",
    "clean_dir = 'clean_images'\n",
    "noisy_dir = 'gaussian_0.8'\n",
    "\n",
    "clean_images = []\n",
    "noisy_images = []\n",
    "\n",
    "for filename in os.listdir(clean_dir):\n",
    "    if filename.endswith('.jpg') or filename.endswith('.png'):\n",
    "        clean_image = cv2.imread(os.path.join(clean_dir, filename), 0)\n",
    "        clean_image = clean_image.astype(np.float32) / 255.0\n",
    "        clean_images.append(clean_image)\n",
    "\n",
    "        noisy_image = cv2.imread(os.path.join(noisy_dir, filename), 0)\n",
    "        noisy_image = noisy_image.astype(np.float32) / 255.0\n",
    "        noisy_images.append(noisy_image)\n",
    "\n",
    "# Flatten initial kernel for optimization\n",
    "initial_params = initial_kernel.flatten()\n",
    "\n",
    "# Optimize the kernel parameters with tqdm progress bar\n",
    "with tqdm(total=len(clean_images), desc='Training Kernel') as pbar:\n",
    "    def update_progress(_):\n",
    "        pbar.update(1)\n",
    "\n",
    "    # Optimize the kernel parameters\n",
    "    optimized_params = minimize(objective_function, initial_params, args=(clean_images, noisy_images),\n",
    "                                callback=update_progress)\n",
    "\n",
    "# Reshape optimized parameters to obtain the trained kernel\n",
    "trained_kernel = optimized_params.x.reshape((3, 3))\n",
    "\n",
    "# Pad the trained kernel\n",
    "trained_kernel_padded = np.pad(trained_kernel, padding, 'constant')\n",
    "\n",
    "# Load the test image\n",
    "test_image = cv2.imread('test_0.8.png', 0)\n",
    "test_image = test_image.astype(np.float32) / 255.0\n",
    "\n",
    "# Denoise the test image using the trained kernel\n",
    "denoised_image = test_image.copy()\n",
    "for _ in range(20):\n",
    "    denoised_image = denoise_image(denoised_image, trained_kernel_padded)\n",
    "\n",
    "cv2.imwrite('charbonier_0.8.jpg', denoised_image * 255.0)"
   ]
  },
  {
   "cell_type": "code",
   "execution_count": 6,
   "id": "702e735d",
   "metadata": {
    "scrolled": true
   },
   "outputs": [
    {
     "name": "stdout",
     "output_type": "stream",
     "text": [
      "[[-3.62131512e-08  1.00000000e+00 -7.24263024e-08]\n",
      " [ 1.00000000e+00 -4.00000000e+00  1.00000000e+00]\n",
      " [ 2.89705209e-07  1.00000000e+00  0.00000000e+00]]\n"
     ]
    }
   ],
   "source": [
    "print(trained_kernel)"
   ]
  },
  {
   "cell_type": "markdown",
   "id": "55e763bd",
   "metadata": {},
   "source": [
    "#### Kernel using 8 neighbors"
   ]
  },
  {
   "cell_type": "code",
   "execution_count": 7,
   "id": "1e0f4b25",
   "metadata": {},
   "outputs": [
    {
     "name": "stderr",
     "output_type": "stream",
     "text": [
      "Training Kernel:   0%|                                                                         | 0/400 [01:14<?, ?it/s]\n"
     ]
    },
    {
     "data": {
      "text/plain": [
       "True"
      ]
     },
     "execution_count": 7,
     "metadata": {},
     "output_type": "execute_result"
    }
   ],
   "source": [
    "import os\n",
    "import numpy as np\n",
    "import cv2\n",
    "from scipy.optimize import minimize\n",
    "from tqdm import tqdm\n",
    "\n",
    "# Define the parameters\n",
    "dt = 0.1  # Time step\n",
    "initial_kernel = np.array([[1, 1, 1], [1, -8, 1], [1, 1, 1]])  # Initial kernel\n",
    "\n",
    "# Pad the kernel to match the size of the image\n",
    "padding = (initial_kernel.shape[0] - 1) // 2\n",
    "initial_kernel_padded = np.pad(initial_kernel, padding, 'constant')\n",
    "\n",
    "# Define the hyperparameter lambda\n",
    "lambda_value = 0.1\n",
    "\n",
    "\n",
    "# Objective function to minimize\n",
    "def objective_function(kernel_params, clean_images, noisy_images):\n",
    "    kernel = kernel_params.reshape((3, 3))\n",
    "    kernel_padded = np.pad(kernel, padding, 'constant')\n",
    "    error = 0\n",
    "    for clean_image, noisy_image in zip(clean_images, noisy_images):\n",
    "        denoised_image = noisy_image.copy()\n",
    "        for _ in range(20):\n",
    "            denoised_image = denoise_image(denoised_image, kernel_padded)\n",
    "        error += np.mean((denoised_image - clean_image) ** 2)  # Example error metric (MSE)\n",
    "    return error\n",
    "\n",
    "alpha_gli = 1.7\n",
    "\n",
    "def gray_level(image_matrix):\n",
    "    return (image_matrix/np.max(image_matrix))**alpha_gli\n",
    "\n",
    "# Function to compute g(s^2)\n",
    "def g(s_squared):\n",
    "    return 1 / (1 + (s_squared + lambda_value**2))\n",
    "\n",
    "# Function to apply the update rule\n",
    "def denoise_image(image, kernel):\n",
    "    k_u = cv2.filter2D(image, -1, kernel)\n",
    "    gli = gray_level(np.abs(k_u))\n",
    "    phi = k_u*g(k_u**2)*gli\n",
    "    p = dt * phi \n",
    "    return image + p\n",
    "\n",
    "# Load the training images (clean and noisy) from separate directories\n",
    "clean_dir = 'clean_images'\n",
    "noisy_dir = 'gaussian_0.8'\n",
    "\n",
    "clean_images = []\n",
    "noisy_images = []\n",
    "\n",
    "for filename in os.listdir(clean_dir):\n",
    "    if filename.endswith('.jpg') or filename.endswith('.png'):\n",
    "        clean_image = cv2.imread(os.path.join(clean_dir, filename), 0)\n",
    "        clean_image = clean_image.astype(np.float32) / 255.0\n",
    "        clean_images.append(clean_image)\n",
    "\n",
    "        noisy_image = cv2.imread(os.path.join(noisy_dir, filename), 0)\n",
    "        noisy_image = noisy_image.astype(np.float32) / 255.0\n",
    "        noisy_images.append(noisy_image)\n",
    "\n",
    "# Flatten initial kernel for optimization\n",
    "initial_params = initial_kernel.flatten()\n",
    "\n",
    "# Optimize the kernel parameters with tqdm progress bar\n",
    "with tqdm(total=len(clean_images), desc='Training Kernel') as pbar:\n",
    "    def update_progress(_):\n",
    "        pbar.update(1)\n",
    "\n",
    "    # Optimize the kernel parameters\n",
    "    optimized_params = minimize(objective_function, initial_params, args=(clean_images, noisy_images),\n",
    "                                callback=update_progress)\n",
    "\n",
    "# Reshape optimized parameters to obtain the trained kernel\n",
    "trained_kernel = optimized_params.x.reshape((3, 3))\n",
    "\n",
    "# Pad the trained kernel\n",
    "trained_kernel_padded = np.pad(trained_kernel, padding, 'constant')\n",
    "\n",
    "# Load the test image\n",
    "test_image = cv2.imread('test_0.8.png', 0)\n",
    "test_image = test_image.astype(np.float32) / 255.0\n",
    "\n",
    "# Denoise the test image using the trained kernel\n",
    "denoised_image = test_image.copy()\n",
    "for _ in range(20):\n",
    "    denoised_image = denoise_image(denoised_image, trained_kernel_padded)\n",
    "\n",
    "cv2.imwrite('perona_0.8.jpg', denoised_image * 255.0)"
   ]
  },
  {
   "cell_type": "code",
   "execution_count": 8,
   "id": "5973c3fa",
   "metadata": {},
   "outputs": [
    {
     "name": "stdout",
     "output_type": "stream",
     "text": [
      "[[ 1.  1.  1.]\n",
      " [ 1. -8.  1.]\n",
      " [ 1.  1.  1.]]\n"
     ]
    }
   ],
   "source": [
    "print(trained_kernel)"
   ]
  },
  {
   "cell_type": "code",
   "execution_count": 8,
   "id": "d13f939c",
   "metadata": {},
   "outputs": [
    {
     "name": "stderr",
     "output_type": "stream",
     "text": [
      "Training Kernel:   0%|                                                                         | 0/400 [01:08<?, ?it/s]\n"
     ]
    },
    {
     "data": {
      "text/plain": [
       "True"
      ]
     },
     "execution_count": 8,
     "metadata": {},
     "output_type": "execute_result"
    }
   ],
   "source": [
    "import os\n",
    "import numpy as np\n",
    "import cv2\n",
    "from scipy.optimize import minimize\n",
    "from tqdm import tqdm\n",
    "\n",
    "# Define the parameters\n",
    "dt = 0.1  # Time step\n",
    "initial_kernel = np.array([[1, 1, 1], [1, -8, 1], [1, 1, 1]])  # Initial kernel\n",
    "\n",
    "# Pad the kernel to match the size of the image\n",
    "padding = (initial_kernel.shape[0] - 1) // 2\n",
    "initial_kernel_padded = np.pad(initial_kernel, padding, 'constant')\n",
    "\n",
    "# Define the hyperparameter lambda\n",
    "lambda_value = 0.1\n",
    "\n",
    "# ReLU activation function\n",
    "def relu(x):\n",
    "    return np.maximum(0, x)\n",
    "\n",
    "# Function to compute phi(x) using ReLU activation\n",
    "def g(x):\n",
    "    return relu(x)\n",
    "\n",
    "# Objective function to minimize\n",
    "def objective_function(kernel_params, clean_images, noisy_images):\n",
    "    kernel = kernel_params.reshape((3, 3))\n",
    "    kernel_padded = np.pad(kernel, padding, 'constant')\n",
    "    error = 0\n",
    "    for clean_image, noisy_image in zip(clean_images, noisy_images):\n",
    "        denoised_image = noisy_image.copy()\n",
    "        for _ in range(20):\n",
    "            denoised_image = denoise_image(denoised_image, kernel_padded)\n",
    "        error += np.mean((denoised_image - clean_image) ** 2)  # Example error metric (MSE)\n",
    "    return error\n",
    "\n",
    "alpha_gli = 1.7\n",
    "\n",
    "def gray_level(image_matrix):\n",
    "    return (image_matrix/np.max(image_matrix))**alpha_gli\n",
    "\n",
    "# Function to apply the update rule\n",
    "def denoise_image(image, kernel):\n",
    "    k_u = cv2.filter2D(image, -1, kernel)\n",
    "    gli = gray_level(np.abs(k_u))\n",
    "    phi = k_u*g(k_u)*gli\n",
    "    p = dt * phi \n",
    "    return image + p\n",
    "\n",
    "# Load the training images (clean and noisy) from separate directories\n",
    "clean_dir = 'clean_images'\n",
    "noisy_dir = 'gaussian_0.8'\n",
    "\n",
    "clean_images = []\n",
    "noisy_images = []\n",
    "\n",
    "for filename in os.listdir(clean_dir):\n",
    "    if filename.endswith('.jpg') or filename.endswith('.png'):\n",
    "        clean_image = cv2.imread(os.path.join(clean_dir, filename), 0)\n",
    "        clean_image = clean_image.astype(np.float32) / 255.0\n",
    "        clean_images.append(clean_image)\n",
    "\n",
    "        noisy_image = cv2.imread(os.path.join(noisy_dir, filename), 0)\n",
    "        noisy_image = noisy_image.astype(np.float32) / 255.0\n",
    "        noisy_images.append(noisy_image)\n",
    "\n",
    "# Flatten initial kernel for optimization\n",
    "initial_params = initial_kernel.flatten()\n",
    "\n",
    "# Optimize the kernel parameters with tqdm progress bar\n",
    "with tqdm(total=len(clean_images), desc='Training Kernel') as pbar:\n",
    "    def update_progress(_):\n",
    "        pbar.update(1)\n",
    "\n",
    "    # Optimize the kernel parameters\n",
    "    optimized_params = minimize(objective_function, initial_params, args=(clean_images, noisy_images),\n",
    "                                callback=update_progress)\n",
    "\n",
    "# Reshape optimized parameters to obtain the trained kernel\n",
    "trained_kernel = optimized_params.x.reshape((3, 3))\n",
    "\n",
    "# Pad the trained kernel\n",
    "trained_kernel_padded = np.pad(trained_kernel, padding, 'constant')\n",
    "\n",
    "# Load the test image\n",
    "test_image = cv2.imread('test_0.8.png', 0)\n",
    "test_image = test_image.astype(np.float32) / 255.0\n",
    "\n",
    "# Denoise the test image using the trained kernel\n",
    "denoised_image = test_image.copy()\n",
    "for _ in range(20):\n",
    "    denoised_image = denoise_image(denoised_image, trained_kernel_padded)\n",
    "\n",
    "cv2.imwrite('relu_0.8.jpg', denoised_image * 255.0)"
   ]
  },
  {
   "cell_type": "code",
   "execution_count": 10,
   "id": "b5003253",
   "metadata": {},
   "outputs": [
    {
     "name": "stdout",
     "output_type": "stream",
     "text": [
      "[[ 1.  1.  1.]\n",
      " [ 1. -8.  1.]\n",
      " [ 1.  1.  1.]]\n"
     ]
    }
   ],
   "source": [
    "print(trained_kernel)"
   ]
  },
  {
   "cell_type": "code",
   "execution_count": 9,
   "id": "5717d4f7",
   "metadata": {},
   "outputs": [
    {
     "name": "stderr",
     "output_type": "stream",
     "text": [
      "Training Kernel:   0%|                                                                         | 0/400 [01:13<?, ?it/s]\n"
     ]
    },
    {
     "data": {
      "text/plain": [
       "True"
      ]
     },
     "execution_count": 9,
     "metadata": {},
     "output_type": "execute_result"
    }
   ],
   "source": [
    "import os\n",
    "import numpy as np\n",
    "import cv2\n",
    "from scipy.optimize import minimize\n",
    "from tqdm import tqdm\n",
    "\n",
    "# Define the parameters\n",
    "dt = 0.1  # Time step\n",
    "initial_kernel = np.array([[1, 1, 1], [1, -8, 1], [1, 1, 1]])  # Initial kernel\n",
    "\n",
    "# Pad the kernel to match the size of the image\n",
    "padding = (initial_kernel.shape[0] - 1) // 2\n",
    "initial_kernel_padded = np.pad(initial_kernel, padding, 'constant')\n",
    "\n",
    "# Define the hyperparameter lambda\n",
    "lambda_value = 0.1\n",
    "\n",
    "# Function to compute g(s^2)\n",
    "def g(s_squared):\n",
    "    denom = np.sqrt(1 + s_squared/lambda_value**2)\n",
    "    return np.sqrt(s_squared)/denom\n",
    "\n",
    "# Objective function to minimize\n",
    "def objective_function(kernel_params, clean_images, noisy_images):\n",
    "    kernel = kernel_params.reshape((3, 3))\n",
    "    kernel_padded = np.pad(kernel, padding, 'constant')\n",
    "    error = 0\n",
    "    for clean_image, noisy_image in zip(clean_images, noisy_images):\n",
    "        denoised_image = noisy_image.copy()\n",
    "        for _ in range(20):\n",
    "            denoised_image = denoise_image(denoised_image, kernel_padded)\n",
    "        error += np.mean((denoised_image - clean_image) ** 2)  # Example error metric (MSE)\n",
    "    return error\n",
    "\n",
    "alpha_gli = 1.7\n",
    "\n",
    "def gray_level(image_matrix):\n",
    "    return (image_matrix/np.max(image_matrix))**alpha_gli\n",
    "\n",
    "# Function to apply the update rule\n",
    "def denoise_image(image, kernel):\n",
    "    k_u = cv2.filter2D(image, -1, kernel)\n",
    "    gli = gray_level(np.abs(k_u))\n",
    "    phi = k_u*g(k_u**2)*gli\n",
    "    p = dt * phi \n",
    "    return image + p\n",
    "\n",
    "# Load the training images (clean and noisy) from separate directories\n",
    "clean_dir = 'clean_images'\n",
    "noisy_dir = 'gaussian_0.8'\n",
    "\n",
    "clean_images = []\n",
    "noisy_images = []\n",
    "\n",
    "for filename in os.listdir(clean_dir):\n",
    "    if filename.endswith('.jpg') or filename.endswith('.png'):\n",
    "        clean_image = cv2.imread(os.path.join(clean_dir, filename), 0)\n",
    "        clean_image = clean_image.astype(np.float32) / 255.0\n",
    "        clean_images.append(clean_image)\n",
    "\n",
    "        noisy_image = cv2.imread(os.path.join(noisy_dir, filename), 0)\n",
    "        noisy_image = noisy_image.astype(np.float32) / 255.0\n",
    "        noisy_images.append(noisy_image)\n",
    "\n",
    "# Flatten initial kernel for optimization\n",
    "initial_params = initial_kernel.flatten()\n",
    "\n",
    "# Optimize the kernel parameters with tqdm progress bar\n",
    "with tqdm(total=len(clean_images), desc='Training Kernel') as pbar:\n",
    "    def update_progress(_):\n",
    "        pbar.update(1)\n",
    "\n",
    "    # Optimize the kernel parameters\n",
    "    optimized_params = minimize(objective_function, initial_params, args=(clean_images, noisy_images),\n",
    "                                callback=update_progress)\n",
    "\n",
    "# Reshape optimized parameters to obtain the trained kernel\n",
    "trained_kernel = optimized_params.x.reshape((3, 3))\n",
    "\n",
    "# Pad the trained kernel\n",
    "trained_kernel_padded = np.pad(trained_kernel, padding, 'constant')\n",
    "\n",
    "# Load the test image\n",
    "test_image = cv2.imread('test_0.8.png', 0)\n",
    "test_image = test_image.astype(np.float32) / 255.0\n",
    "\n",
    "# Denoise the test image using the trained kernel\n",
    "denoised_image = test_image.copy()\n",
    "for _ in range(20):\n",
    "    denoised_image = denoise_image(denoised_image, trained_kernel_padded)\n",
    "\n",
    "cv2.imwrite('charbonier_0.8.jpg', denoised_image * 255.0)"
   ]
  },
  {
   "cell_type": "code",
   "execution_count": 12,
   "id": "d5e8c508",
   "metadata": {},
   "outputs": [
    {
     "name": "stdout",
     "output_type": "stream",
     "text": [
      "[[ 1.  1.  1.]\n",
      " [ 1. -8.  1.]\n",
      " [ 1.  1.  1.]]\n"
     ]
    }
   ],
   "source": [
    "print(trained_kernel)"
   ]
  }
 ],
 "metadata": {
  "kernelspec": {
   "display_name": "Python 3 (ipykernel)",
   "language": "python",
   "name": "python3"
  },
  "language_info": {
   "codemirror_mode": {
    "name": "ipython",
    "version": 3
   },
   "file_extension": ".py",
   "mimetype": "text/x-python",
   "name": "python",
   "nbconvert_exporter": "python",
   "pygments_lexer": "ipython3",
   "version": "3.9.13"
  }
 },
 "nbformat": 4,
 "nbformat_minor": 5
}
