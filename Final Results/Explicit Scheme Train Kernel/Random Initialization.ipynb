{
 "cells": [
  {
   "cell_type": "markdown",
   "id": "1b5ce709",
   "metadata": {},
   "source": [
    "#### Kernel using 4 neighbors"
   ]
  },
  {
   "cell_type": "code",
   "execution_count": 1,
   "id": "1c4372f8",
   "metadata": {},
   "outputs": [
    {
     "name": "stderr",
     "output_type": "stream",
     "text": [
      "Training Kernel:   0%|▏                                                              | 1/400 [00:16<1:48:31, 16.32s/it]\n"
     ]
    },
    {
     "data": {
      "text/plain": [
       "True"
      ]
     },
     "execution_count": 1,
     "metadata": {},
     "output_type": "execute_result"
    }
   ],
   "source": [
    "import os\n",
    "import numpy as np\n",
    "import cv2\n",
    "from scipy.optimize import minimize\n",
    "from tqdm import tqdm\n",
    "\n",
    "# Define the parameters\n",
    "dt = 0.1  # Time step\n",
    "initial_kernel = np.random.rand(3, 3)\n",
    "\n",
    "# Pad the kernel to match the size of the image\n",
    "padding = (initial_kernel.shape[0] - 1) // 2\n",
    "initial_kernel_padded = np.pad(initial_kernel, padding, 'constant')\n",
    "\n",
    "# Define the hyperparameter lambda\n",
    "lambda_value = 0.1\n",
    "\n",
    "# Function to compute g(s^2)\n",
    "def g(s_squared):\n",
    "    return 1 / (1 + (s_squared + lambda_value**2))\n",
    "\n",
    "# Objective function to minimize\n",
    "def objective_function(kernel_params, clean_images, noisy_images):\n",
    "    kernel = kernel_params.reshape((3, 3))\n",
    "    kernel_padded = np.pad(kernel, padding, 'constant')\n",
    "    error = 0\n",
    "    for clean_image, noisy_image in zip(clean_images, noisy_images):\n",
    "        denoised_image = noisy_image.copy()\n",
    "        for _ in range(20):\n",
    "            denoised_image = denoise_image(denoised_image, kernel_padded)\n",
    "        error += np.mean((denoised_image - clean_image) ** 2)  # Example error metric (MSE)\n",
    "    return error\n",
    "\n",
    "# Function to apply the update rule\n",
    "def denoise_image(image, kernel):\n",
    "    k_u = cv2.filter2D(image, -1, kernel)\n",
    "    phi = k_u * g(k_u**2)\n",
    "    p = dt * phi \n",
    "    return image + p\n",
    "\n",
    "# Load the training images (clean and noisy) from separate directories\n",
    "clean_dir = 'clean_images'\n",
    "noisy_dir = 'mult_train'\n",
    "\n",
    "clean_images = []\n",
    "noisy_images = []\n",
    "\n",
    "for filename in os.listdir(clean_dir):\n",
    "    if filename.endswith('.jpg') or filename.endswith('.png'):\n",
    "        clean_image = cv2.imread(os.path.join(clean_dir, filename), 0)\n",
    "        clean_image = clean_image.astype(np.float32) / 255.0\n",
    "        clean_images.append(clean_image)\n",
    "\n",
    "        noisy_image = cv2.imread(os.path.join(noisy_dir, filename), 0)\n",
    "        noisy_image = noisy_image.astype(np.float32) / 255.0\n",
    "        noisy_images.append(noisy_image)\n",
    "\n",
    "# Flatten initial kernel for optimization\n",
    "initial_params = initial_kernel.flatten()\n",
    "\n",
    "# Optimize the kernel parameters with tqdm progress bar\n",
    "with tqdm(total=len(clean_images), desc='Training Kernel') as pbar:\n",
    "    def update_progress(_):\n",
    "        pbar.update(1)\n",
    "\n",
    "    # Optimize the kernel parameters\n",
    "    optimized_params = minimize(objective_function, initial_params, args=(clean_images, noisy_images),\n",
    "                                callback=update_progress)\n",
    "\n",
    "# Reshape optimized parameters to obtain the trained kernel\n",
    "trained_kernel = optimized_params.x.reshape((3, 3))\n",
    "\n",
    "# Pad the trained kernel\n",
    "trained_kernel_padded = np.pad(trained_kernel, padding, 'constant')\n",
    "\n",
    "# Load the test image\n",
    "test_image = cv2.imread('test.png', 0)\n",
    "test_image = test_image.astype(np.float32) / 255.0\n",
    "\n",
    "# Denoise the test image using the trained kernel\n",
    "denoised_image = test_image.copy()\n",
    "for _ in range(200):\n",
    "    denoised_image = denoise_image(denoised_image, trained_kernel_padded)\n",
    "\n",
    "cv2.imwrite('perona2.jpg', denoised_image * 255.0)"
   ]
  },
  {
   "cell_type": "code",
   "execution_count": 2,
   "id": "076b0469",
   "metadata": {},
   "outputs": [
    {
     "name": "stdout",
     "output_type": "stream",
     "text": [
      "[[0.28771478 0.45686923 0.59686541]\n",
      " [0.69384825 0.41176739 1.61321642]\n",
      " [0.97749501 0.98236024 0.48730316]]\n"
     ]
    }
   ],
   "source": [
    "print(trained_kernel)"
   ]
  },
  {
   "cell_type": "code",
   "execution_count": 3,
   "id": "45d9a9ad",
   "metadata": {},
   "outputs": [
    {
     "name": "stderr",
     "output_type": "stream",
     "text": [
      "Training Kernel:   0%|                                                                         | 0/400 [00:00<?, ?it/s]C:\\Users\\anish\\AppData\\Local\\Temp\\ipykernel_10996\\532754169.py:41: RuntimeWarning: overflow encountered in multiply\n",
      "  p = dt * k_u * g(k_u)\n",
      "C:\\Users\\anish\\AppData\\Local\\Temp\\ipykernel_10996\\532754169.py:35: RuntimeWarning: overflow encountered in square\n",
      "  error += np.mean((denoised_image - clean_image) ** 2)  # Example error metric (MSE)\n",
      "C:\\Users\\anish\\AppData\\Roaming\\Python\\Python39\\site-packages\\numpy\\core\\_methods.py:180: RuntimeWarning: overflow encountered in reduce\n",
      "  ret = umr_sum(arr, axis, dtype, out, keepdims, where=where)\n",
      "C:\\ProgramData\\Anaconda3\\lib\\site-packages\\scipy\\optimize\\_numdiff.py:576: RuntimeWarning: invalid value encountered in subtract\n",
      "  df = fun(x) - f0\n",
      "Training Kernel:   0%|                                                                         | 0/400 [00:07<?, ?it/s]\n"
     ]
    },
    {
     "data": {
      "text/plain": [
       "True"
      ]
     },
     "execution_count": 3,
     "metadata": {},
     "output_type": "execute_result"
    }
   ],
   "source": [
    "import os\n",
    "import numpy as np\n",
    "import cv2\n",
    "from scipy.optimize import minimize\n",
    "from tqdm import tqdm\n",
    "\n",
    "# Define the parameters\n",
    "dt = 0.1  # Time step\n",
    "initial_kernel = np.random.rand(3, 3)\n",
    "\n",
    "# Pad the kernel to match the size of the image\n",
    "padding = (initial_kernel.shape[0] - 1) // 2\n",
    "initial_kernel_padded = np.pad(initial_kernel, padding, 'constant')\n",
    "\n",
    "# Define the hyperparameter lambda\n",
    "lambda_value = 0.1\n",
    "\n",
    "# ReLU activation function\n",
    "def relu(x):\n",
    "    return np.maximum(0, x)\n",
    "\n",
    "# Function to compute phi(x) using ReLU activation\n",
    "def g(x):\n",
    "    return relu(x)\n",
    "\n",
    "# Objective function to minimize\n",
    "def objective_function(kernel_params, clean_images, noisy_images):\n",
    "    kernel = kernel_params.reshape((3, 3))\n",
    "    kernel_padded = np.pad(kernel, padding, 'constant')\n",
    "    error = 0\n",
    "    for clean_image, noisy_image in zip(clean_images, noisy_images):\n",
    "        denoised_image = noisy_image.copy()\n",
    "        for _ in range(20):\n",
    "            denoised_image = denoise_image(denoised_image, kernel_padded)\n",
    "        error += np.mean((denoised_image - clean_image) ** 2)  # Example error metric (MSE)\n",
    "    return error\n",
    "\n",
    "# Function to apply the update rule\n",
    "def denoise_image(image, kernel):\n",
    "    k_u = cv2.filter2D(image, -1, kernel)\n",
    "    p = dt * k_u * g(k_u)\n",
    "    return image + p\n",
    "\n",
    "# Load the training images (clean and noisy) from separate directories\n",
    "clean_dir = 'clean_images'\n",
    "noisy_dir = 'mult_train'\n",
    "\n",
    "clean_images = []\n",
    "noisy_images = []\n",
    "\n",
    "for filename in os.listdir(clean_dir):\n",
    "    if filename.endswith('.jpg') or filename.endswith('.png'):\n",
    "        clean_image = cv2.imread(os.path.join(clean_dir, filename), 0)\n",
    "        clean_image = clean_image.astype(np.float32) / 255.0\n",
    "        clean_images.append(clean_image)\n",
    "\n",
    "        noisy_image = cv2.imread(os.path.join(noisy_dir, filename), 0)\n",
    "        noisy_image = noisy_image.astype(np.float32) / 255.0\n",
    "        noisy_images.append(noisy_image)\n",
    "\n",
    "# Flatten initial kernel for optimization\n",
    "initial_params = initial_kernel.flatten()\n",
    "\n",
    "# Optimize the kernel parameters with tqdm progress bar\n",
    "with tqdm(total=len(clean_images), desc='Training Kernel') as pbar:\n",
    "    def update_progress(_):\n",
    "        pbar.update(1)\n",
    "\n",
    "    # Optimize the kernel parameters\n",
    "    optimized_params = minimize(objective_function, initial_params, args=(clean_images, noisy_images),\n",
    "                                callback=update_progress)\n",
    "\n",
    "# Reshape optimized parameters to obtain the trained kernel\n",
    "trained_kernel = optimized_params.x.reshape((3, 3))\n",
    "\n",
    "# Pad the trained kernel\n",
    "trained_kernel_padded = np.pad(trained_kernel, padding, 'constant')\n",
    "\n",
    "# Load the test image\n",
    "test_image = cv2.imread('test.png', 0)\n",
    "test_image = test_image.astype(np.float32) / 255.0\n",
    "\n",
    "# Denoise the test image using the trained kernel\n",
    "denoised_image = test_image.copy()\n",
    "for _ in range(200):\n",
    "    denoised_image = denoise_image(denoised_image, trained_kernel_padded)\n",
    "\n",
    "cv2.imwrite('relu2.jpg', denoised_image * 255.0)"
   ]
  },
  {
   "cell_type": "code",
   "execution_count": 4,
   "id": "ddcb695f",
   "metadata": {},
   "outputs": [
    {
     "name": "stdout",
     "output_type": "stream",
     "text": [
      "[[0.04449146 0.13575232 0.24767822]\n",
      " [0.33346809 0.4981568  0.55886843]\n",
      " [0.91934352 0.09844713 0.55023631]]\n"
     ]
    }
   ],
   "source": [
    "print(trained_kernel)"
   ]
  },
  {
   "cell_type": "code",
   "execution_count": 5,
   "id": "50fd8e9e",
   "metadata": {},
   "outputs": [
    {
     "name": "stderr",
     "output_type": "stream",
     "text": [
      "Training Kernel:   1%|▊                                                              | 5/400 [06:19<8:19:03, 75.81s/it]\n"
     ]
    },
    {
     "data": {
      "text/plain": [
       "True"
      ]
     },
     "execution_count": 5,
     "metadata": {},
     "output_type": "execute_result"
    }
   ],
   "source": [
    "import os\n",
    "import numpy as np\n",
    "import cv2\n",
    "from scipy.optimize import minimize\n",
    "from tqdm import tqdm\n",
    "\n",
    "# Define the parameters\n",
    "dt = 0.1  # Time step\n",
    "initial_kernel = np.random.rand(3, 3)\n",
    "\n",
    "# Pad the kernel to match the size of the image\n",
    "padding = (initial_kernel.shape[0] - 1) // 2\n",
    "initial_kernel_padded = np.pad(initial_kernel, padding, 'constant')\n",
    "\n",
    "# Define the hyperparameter lambda\n",
    "lambda_value = 0.1\n",
    "\n",
    "# Function to compute g(s^2)\n",
    "def g(s_squared):\n",
    "    denom = np.sqrt(1 + s_squared/lambda_value**2)\n",
    "    return np.sqrt(s_squared)/denom\n",
    "\n",
    "# Objective function to minimize\n",
    "def objective_function(kernel_params, clean_images, noisy_images):\n",
    "    kernel = kernel_params.reshape((3, 3))\n",
    "    kernel_padded = np.pad(kernel, padding, 'constant')\n",
    "    error = 0\n",
    "    for clean_image, noisy_image in zip(clean_images, noisy_images):\n",
    "        denoised_image = noisy_image.copy()\n",
    "        for _ in range(20):\n",
    "            denoised_image = denoise_image(denoised_image, kernel_padded)\n",
    "        error += np.mean((denoised_image - clean_image) ** 2)  # Example error metric (MSE)\n",
    "    return error\n",
    "\n",
    "# Function to apply the update rule\n",
    "def denoise_image(image, kernel):\n",
    "    k_u = cv2.filter2D(image, -1, kernel)\n",
    "    phi = k_u*g(k_u**2)\n",
    "    p = dt * phi\n",
    "    return image + p\n",
    "\n",
    "# Load the training images (clean and noisy) from separate directories\n",
    "clean_dir = 'clean_images'\n",
    "noisy_dir = 'mult_train'\n",
    "\n",
    "clean_images = []\n",
    "noisy_images = []\n",
    "\n",
    "for filename in os.listdir(clean_dir):\n",
    "    if filename.endswith('.jpg') or filename.endswith('.png'):\n",
    "        clean_image = cv2.imread(os.path.join(clean_dir, filename), 0)\n",
    "        clean_image = clean_image.astype(np.float32) / 255.0\n",
    "        clean_images.append(clean_image)\n",
    "\n",
    "        noisy_image = cv2.imread(os.path.join(noisy_dir, filename), 0)\n",
    "        noisy_image = noisy_image.astype(np.float32) / 255.0\n",
    "        noisy_images.append(noisy_image)\n",
    "\n",
    "# Flatten initial kernel for optimization\n",
    "initial_params = initial_kernel.flatten()\n",
    "\n",
    "# Optimize the kernel parameters with tqdm progress bar\n",
    "with tqdm(total=len(clean_images), desc='Training Kernel') as pbar:\n",
    "    def update_progress(_):\n",
    "        pbar.update(1)\n",
    "\n",
    "    # Optimize the kernel parameters\n",
    "    optimized_params = minimize(objective_function, initial_params, args=(clean_images, noisy_images),\n",
    "                                callback=update_progress)\n",
    "\n",
    "# Reshape optimized parameters to obtain the trained kernel\n",
    "trained_kernel = optimized_params.x.reshape((3, 3))\n",
    "\n",
    "# Pad the trained kernel\n",
    "trained_kernel_padded = np.pad(trained_kernel, padding, 'constant')\n",
    "\n",
    "# Load the test image\n",
    "test_image = cv2.imread('test.png', 0)\n",
    "test_image = test_image.astype(np.float32) / 255.0\n",
    "\n",
    "# Denoise the test image using the trained kernel\n",
    "denoised_image = test_image.copy()\n",
    "for _ in range(200):\n",
    "    denoised_image = denoise_image(denoised_image, trained_kernel_padded)\n",
    "\n",
    "cv2.imwrite('charbonier2.jpg', denoised_image * 255.0)"
   ]
  },
  {
   "cell_type": "code",
   "execution_count": 6,
   "id": "702e735d",
   "metadata": {
    "scrolled": true
   },
   "outputs": [
    {
     "name": "stdout",
     "output_type": "stream",
     "text": [
      "[[ 0.5396388  -0.57564548  0.97759542]\n",
      " [ 0.28766341 -2.24797799 -1.88638612]\n",
      " [ 0.33712107  0.78464178  2.43901603]]\n"
     ]
    }
   ],
   "source": [
    "print(trained_kernel)"
   ]
  }
 ],
 "metadata": {
  "kernelspec": {
   "display_name": "Python 3 (ipykernel)",
   "language": "python",
   "name": "python3"
  },
  "language_info": {
   "codemirror_mode": {
    "name": "ipython",
    "version": 3
   },
   "file_extension": ".py",
   "mimetype": "text/x-python",
   "name": "python",
   "nbconvert_exporter": "python",
   "pygments_lexer": "ipython3",
   "version": "3.9.13"
  }
 },
 "nbformat": 4,
 "nbformat_minor": 5
}
