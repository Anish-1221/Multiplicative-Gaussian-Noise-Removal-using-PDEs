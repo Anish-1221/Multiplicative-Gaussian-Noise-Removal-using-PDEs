{
 "cells": [
  {
   "cell_type": "markdown",
   "id": "1b5ce709",
   "metadata": {},
   "source": [
    "#### Kernel using 4 neighbors"
   ]
  },
  {
   "cell_type": "code",
   "execution_count": 1,
   "id": "1c4372f8",
   "metadata": {},
   "outputs": [
    {
     "name": "stderr",
     "output_type": "stream",
     "text": [
      "Training Kernel:   1%|▍                                                            | 3/400 [12:29<27:33:30, 249.90s/it]\n"
     ]
    },
    {
     "data": {
      "text/plain": [
       "True"
      ]
     },
     "execution_count": 1,
     "metadata": {},
     "output_type": "execute_result"
    }
   ],
   "source": [
    "import os\n",
    "import numpy as np\n",
    "import cv2\n",
    "from scipy.optimize import minimize\n",
    "from tqdm import tqdm\n",
    "\n",
    "# Define the parameters\n",
    "dt = 0.1  # Time step\n",
    "initial_kernel = np.array([[0, 1, 0], [1, -4, 1], [0, 1, 0]])  # Initial kernel\n",
    "\n",
    "# Pad the kernel to match the size of the image\n",
    "padding = (initial_kernel.shape[0] - 1) // 2\n",
    "initial_kernel_padded = np.pad(initial_kernel, padding, 'constant')\n",
    "\n",
    "# Define the hyperparameter lambda\n",
    "lambda_value = 0.1\n",
    "\n",
    "# Function to compute g(s^2)\n",
    "def g(s_squared):\n",
    "    return 1 / (1 + (s_squared + lambda_value**2))\n",
    "\n",
    "# Objective function to minimize\n",
    "def objective_function(kernel_params, clean_images, noisy_images):\n",
    "    kernel = kernel_params.reshape((3, 3))\n",
    "    kernel_padded = np.pad(kernel, padding, 'constant')\n",
    "    error = 0\n",
    "    for clean_image, noisy_image in zip(clean_images, noisy_images):\n",
    "        denoised_image = noisy_image.copy()\n",
    "        for _ in range(20):\n",
    "            denoised_image = denoise_image(denoised_image, kernel_padded)\n",
    "        error += np.mean((denoised_image - clean_image) ** 2)  # Example error metric (MSE)\n",
    "    return error\n",
    "\n",
    "# Function to apply the update rule\n",
    "def denoise_image(image, kernel):\n",
    "    k_u = cv2.filter2D(image, -1, kernel)\n",
    "    phi = k_u * g(k_u**2)\n",
    "    p = dt * phi \n",
    "    return image + p\n",
    "\n",
    "# Load the training images (clean and noisy) from separate directories\n",
    "clean_dir = 'clean_images'\n",
    "noisy_dir = 'mult_train'\n",
    "\n",
    "clean_images = []\n",
    "noisy_images = []\n",
    "\n",
    "for filename in os.listdir(clean_dir):\n",
    "    if filename.endswith('.jpg') or filename.endswith('.png'):\n",
    "        clean_image = cv2.imread(os.path.join(clean_dir, filename), 0)\n",
    "        clean_image = clean_image.astype(np.float32) / 255.0\n",
    "        clean_images.append(clean_image)\n",
    "\n",
    "        noisy_image = cv2.imread(os.path.join(noisy_dir, filename), 0)\n",
    "        noisy_image = noisy_image.astype(np.float32) / 255.0\n",
    "        noisy_images.append(noisy_image)\n",
    "\n",
    "# Flatten initial kernel for optimization\n",
    "initial_params = initial_kernel.flatten()\n",
    "\n",
    "# Optimize the kernel parameters with tqdm progress bar\n",
    "with tqdm(total=len(clean_images), desc='Training Kernel') as pbar:\n",
    "    def update_progress(_):\n",
    "        pbar.update(1)\n",
    "\n",
    "    # Optimize the kernel parameters\n",
    "    optimized_params = minimize(objective_function, initial_params, args=(clean_images, noisy_images),\n",
    "                                callback=update_progress)\n",
    "\n",
    "# Reshape optimized parameters to obtain the trained kernel\n",
    "trained_kernel = optimized_params.x.reshape((3, 3))\n",
    "\n",
    "# Pad the trained kernel\n",
    "trained_kernel_padded = np.pad(trained_kernel, padding, 'constant')\n",
    "\n",
    "# Load the test image\n",
    "test_image = cv2.imread('test.png', 0)\n",
    "test_image = test_image.astype(np.float32) / 255.0\n",
    "\n",
    "# Denoise the test image using the trained kernel\n",
    "denoised_image = test_image.copy()\n",
    "for _ in range(20):\n",
    "    denoised_image = denoise_image(denoised_image, trained_kernel_padded)\n",
    "\n",
    "cv2.imwrite('perona.jpg', denoised_image * 255.0)"
   ]
  },
  {
   "cell_type": "code",
   "execution_count": 2,
   "id": "076b0469",
   "metadata": {},
   "outputs": [
    {
     "name": "stdout",
     "output_type": "stream",
     "text": [
      "[[ 0.00790321  1.         -0.00798638]\n",
      " [ 1.         -4.          1.        ]\n",
      " [ 0.0087954   1.          0.02069594]]\n"
     ]
    }
   ],
   "source": [
    "print(trained_kernel)"
   ]
  },
  {
   "cell_type": "code",
   "execution_count": 3,
   "id": "45d9a9ad",
   "metadata": {},
   "outputs": [
    {
     "name": "stderr",
     "output_type": "stream",
     "text": [
      "Training Kernel:   1%|▍                                                            | 3/400 [15:52<35:01:01, 317.54s/it]\n"
     ]
    },
    {
     "data": {
      "text/plain": [
       "True"
      ]
     },
     "execution_count": 3,
     "metadata": {},
     "output_type": "execute_result"
    }
   ],
   "source": [
    "import os\n",
    "import numpy as np\n",
    "import cv2\n",
    "from scipy.optimize import minimize\n",
    "from tqdm import tqdm\n",
    "\n",
    "# Define the parameters\n",
    "dt = 0.1  # Time step\n",
    "initial_kernel = np.array([[0, 1, 0], [1, -4, 1], [0, 1, 0]])  # Initial kernel\n",
    "\n",
    "# Pad the kernel to match the size of the image\n",
    "padding = (initial_kernel.shape[0] - 1) // 2\n",
    "initial_kernel_padded = np.pad(initial_kernel, padding, 'constant')\n",
    "\n",
    "# Define the hyperparameter lambda\n",
    "lambda_value = 0.1\n",
    "\n",
    "# ReLU activation function\n",
    "def relu(x):\n",
    "    return np.maximum(0, x)\n",
    "\n",
    "# Function to compute phi(x) using ReLU activation\n",
    "def g(x):\n",
    "    return relu(x)\n",
    "\n",
    "# Objective function to minimize\n",
    "def objective_function(kernel_params, clean_images, noisy_images):\n",
    "    kernel = kernel_params.reshape((3, 3))\n",
    "    kernel_padded = np.pad(kernel, padding, 'constant')\n",
    "    error = 0\n",
    "    for clean_image, noisy_image in zip(clean_images, noisy_images):\n",
    "        denoised_image = noisy_image.copy()\n",
    "        for _ in range(20):\n",
    "            denoised_image = denoise_image(denoised_image, kernel_padded)\n",
    "        error += np.mean((denoised_image - clean_image) ** 2)  # Example error metric (MSE)\n",
    "    return error\n",
    "\n",
    "# Function to apply the update rule\n",
    "def denoise_image(image, kernel):\n",
    "    k_u = cv2.filter2D(image, -1, kernel)\n",
    "    p = dt * k_u * g(k_u)\n",
    "    return image + p\n",
    "\n",
    "# Load the training images (clean and noisy) from separate directories\n",
    "clean_dir = 'clean_images'\n",
    "noisy_dir = 'mult_train'\n",
    "\n",
    "clean_images = []\n",
    "noisy_images = []\n",
    "\n",
    "for filename in os.listdir(clean_dir):\n",
    "    if filename.endswith('.jpg') or filename.endswith('.png'):\n",
    "        clean_image = cv2.imread(os.path.join(clean_dir, filename), 0)\n",
    "        clean_image = clean_image.astype(np.float32) / 255.0\n",
    "        clean_images.append(clean_image)\n",
    "\n",
    "        noisy_image = cv2.imread(os.path.join(noisy_dir, filename), 0)\n",
    "        noisy_image = noisy_image.astype(np.float32) / 255.0\n",
    "        noisy_images.append(noisy_image)\n",
    "\n",
    "# Flatten initial kernel for optimization\n",
    "initial_params = initial_kernel.flatten()\n",
    "\n",
    "# Optimize the kernel parameters with tqdm progress bar\n",
    "with tqdm(total=len(clean_images), desc='Training Kernel') as pbar:\n",
    "    def update_progress(_):\n",
    "        pbar.update(1)\n",
    "\n",
    "    # Optimize the kernel parameters\n",
    "    optimized_params = minimize(objective_function, initial_params, args=(clean_images, noisy_images),\n",
    "                                callback=update_progress)\n",
    "\n",
    "# Reshape optimized parameters to obtain the trained kernel\n",
    "trained_kernel = optimized_params.x.reshape((3, 3))\n",
    "\n",
    "# Pad the trained kernel\n",
    "trained_kernel_padded = np.pad(trained_kernel, padding, 'constant')\n",
    "\n",
    "# Load the test image\n",
    "test_image = cv2.imread('test.png', 0)\n",
    "test_image = test_image.astype(np.float32) / 255.0\n",
    "\n",
    "# Denoise the test image using the trained kernel\n",
    "denoised_image = test_image.copy()\n",
    "for _ in range(20):\n",
    "    denoised_image = denoise_image(denoised_image, trained_kernel_padded)\n",
    "\n",
    "cv2.imwrite('relu.jpg', denoised_image * 255.0)"
   ]
  },
  {
   "cell_type": "code",
   "execution_count": 4,
   "id": "ddcb695f",
   "metadata": {},
   "outputs": [
    {
     "name": "stdout",
     "output_type": "stream",
     "text": [
      "[[ 4.06200230e-04  1.00000000e+00 -2.45060828e-03]\n",
      " [ 1.00000000e+00 -4.00000000e+00  1.00000000e+00]\n",
      " [-4.72886243e-02  1.00000000e+00 -2.61297192e-01]]\n"
     ]
    }
   ],
   "source": [
    "print(trained_kernel)"
   ]
  },
  {
   "cell_type": "code",
   "execution_count": 5,
   "id": "50fd8e9e",
   "metadata": {},
   "outputs": [
    {
     "name": "stderr",
     "output_type": "stream",
     "text": [
      "Training Kernel:   0%|▏                                                          | 1/400 [21:43<144:29:02, 1303.61s/it]\n"
     ]
    },
    {
     "data": {
      "text/plain": [
       "True"
      ]
     },
     "execution_count": 5,
     "metadata": {},
     "output_type": "execute_result"
    }
   ],
   "source": [
    "import os\n",
    "import numpy as np\n",
    "import cv2\n",
    "from scipy.optimize import minimize\n",
    "from tqdm import tqdm\n",
    "\n",
    "# Define the parameters\n",
    "dt = 0.1  # Time step\n",
    "initial_kernel = np.array([[0, 1, 0], [1, -4, 1], [0, 1, 0]])  # Initial kernel\n",
    "\n",
    "# Pad the kernel to match the size of the image\n",
    "padding = (initial_kernel.shape[0] - 1) // 2\n",
    "initial_kernel_padded = np.pad(initial_kernel, padding, 'constant')\n",
    "\n",
    "# Define the hyperparameter lambda\n",
    "lambda_value = 0.1\n",
    "\n",
    "# Function to compute g(s^2)\n",
    "def g(s_squared):\n",
    "    denom = np.sqrt(1 + s_squared/lambda_value**2)\n",
    "    return np.sqrt(s_squared)/denom\n",
    "\n",
    "# Objective function to minimize\n",
    "def objective_function(kernel_params, clean_images, noisy_images):\n",
    "    kernel = kernel_params.reshape((3, 3))\n",
    "    kernel_padded = np.pad(kernel, padding, 'constant')\n",
    "    error = 0\n",
    "    for clean_image, noisy_image in zip(clean_images, noisy_images):\n",
    "        denoised_image = noisy_image.copy()\n",
    "        for _ in range(20):\n",
    "            denoised_image = denoise_image(denoised_image, kernel_padded)\n",
    "        error += np.mean((denoised_image - clean_image) ** 2)  # Example error metric (MSE)\n",
    "    return error\n",
    "\n",
    "# Function to apply the update rule\n",
    "def denoise_image(image, kernel):\n",
    "    k_u = cv2.filter2D(image, -1, kernel)\n",
    "    phi = k_u*g(k_u**2)\n",
    "    p = dt * phi\n",
    "    return image + p\n",
    "\n",
    "# Load the training images (clean and noisy) from separate directories\n",
    "clean_dir = 'clean_images'\n",
    "noisy_dir = 'mult_train'\n",
    "\n",
    "clean_images = []\n",
    "noisy_images = []\n",
    "\n",
    "for filename in os.listdir(clean_dir):\n",
    "    if filename.endswith('.jpg') or filename.endswith('.png'):\n",
    "        clean_image = cv2.imread(os.path.join(clean_dir, filename), 0)\n",
    "        clean_image = clean_image.astype(np.float32) / 255.0\n",
    "        clean_images.append(clean_image)\n",
    "\n",
    "        noisy_image = cv2.imread(os.path.join(noisy_dir, filename), 0)\n",
    "        noisy_image = noisy_image.astype(np.float32) / 255.0\n",
    "        noisy_images.append(noisy_image)\n",
    "\n",
    "# Flatten initial kernel for optimization\n",
    "initial_params = initial_kernel.flatten()\n",
    "\n",
    "# Optimize the kernel parameters with tqdm progress bar\n",
    "with tqdm(total=len(clean_images), desc='Training Kernel') as pbar:\n",
    "    def update_progress(_):\n",
    "        pbar.update(1)\n",
    "\n",
    "    # Optimize the kernel parameters\n",
    "    optimized_params = minimize(objective_function, initial_params, args=(clean_images, noisy_images),\n",
    "                                callback=update_progress)\n",
    "\n",
    "# Reshape optimized parameters to obtain the trained kernel\n",
    "trained_kernel = optimized_params.x.reshape((3, 3))\n",
    "\n",
    "# Pad the trained kernel\n",
    "trained_kernel_padded = np.pad(trained_kernel, padding, 'constant')\n",
    "\n",
    "# Load the test image\n",
    "test_image = cv2.imread('test.png', 0)\n",
    "test_image = test_image.astype(np.float32) / 255.0\n",
    "\n",
    "# Denoise the test image using the trained kernel\n",
    "denoised_image = test_image.copy()\n",
    "for _ in range(20):\n",
    "    denoised_image = denoise_image(denoised_image, trained_kernel_padded)\n",
    "\n",
    "cv2.imwrite('charbonier.jpg', denoised_image * 255.0)"
   ]
  },
  {
   "cell_type": "code",
   "execution_count": 6,
   "id": "702e735d",
   "metadata": {
    "scrolled": true
   },
   "outputs": [
    {
     "name": "stdout",
     "output_type": "stream",
     "text": [
      "[[ 0.        1.       -0.0625  ]\n",
      " [ 1.       -4.        1.      ]\n",
      " [ 0.34375   1.        0.078125]]\n"
     ]
    }
   ],
   "source": [
    "print(trained_kernel)"
   ]
  },
  {
   "cell_type": "markdown",
   "id": "55e763bd",
   "metadata": {},
   "source": [
    "#### Kernel using 8 neighbors"
   ]
  },
  {
   "cell_type": "code",
   "execution_count": 1,
   "id": "1e0f4b25",
   "metadata": {},
   "outputs": [
    {
     "name": "stderr",
     "output_type": "stream",
     "text": [
      "Training Kernel:   0%|                                                                         | 0/400 [00:06<?, ?it/s]\n"
     ]
    },
    {
     "data": {
      "text/plain": [
       "True"
      ]
     },
     "execution_count": 1,
     "metadata": {},
     "output_type": "execute_result"
    }
   ],
   "source": [
    "import os\n",
    "import numpy as np\n",
    "import cv2\n",
    "from scipy.optimize import minimize\n",
    "from tqdm import tqdm\n",
    "\n",
    "# Define the parameters\n",
    "dt = 0.1  # Time step\n",
    "initial_kernel = np.array([[1, 1, 1], [1, -8, 1], [1, 1, 1]])  # Initial kernel\n",
    "\n",
    "# Pad the kernel to match the size of the image\n",
    "padding = (initial_kernel.shape[0] - 1) // 2\n",
    "initial_kernel_padded = np.pad(initial_kernel, padding, 'constant')\n",
    "\n",
    "# Define the hyperparameter lambda\n",
    "lambda_value = 0.1\n",
    "\n",
    "# Function to compute g(s^2)\n",
    "def g(s_squared):\n",
    "    return 1 / (1 + (s_squared + lambda_value**2))\n",
    "\n",
    "# Objective function to minimize\n",
    "def objective_function(kernel_params, clean_images, noisy_images):\n",
    "    kernel = kernel_params.reshape((3, 3))\n",
    "    kernel_padded = np.pad(kernel, padding, 'constant')\n",
    "    error = 0\n",
    "    for clean_image, noisy_image in zip(clean_images, noisy_images):\n",
    "        denoised_image = noisy_image.copy()\n",
    "        for _ in range(20):\n",
    "            denoised_image = denoise_image(denoised_image, kernel_padded)\n",
    "        error += np.mean((denoised_image - clean_image) ** 2)  # Example error metric (MSE)\n",
    "    return error\n",
    "\n",
    "# Function to apply the update rule\n",
    "def denoise_image(image, kernel):\n",
    "    k_u = cv2.filter2D(image, -1, kernel)\n",
    "    phi = k_u * g(k_u**2)\n",
    "    p = dt * phi \n",
    "    return image + p\n",
    "\n",
    "# Load the training images (clean and noisy) from separate directories\n",
    "clean_dir = 'clean_images'\n",
    "noisy_dir = 'mult_train'\n",
    "\n",
    "clean_images = []\n",
    "noisy_images = []\n",
    "\n",
    "for filename in os.listdir(clean_dir):\n",
    "    if filename.endswith('.jpg') or filename.endswith('.png'):\n",
    "        clean_image = cv2.imread(os.path.join(clean_dir, filename), 0)\n",
    "        clean_image = clean_image.astype(np.float32) / 255.0\n",
    "        clean_images.append(clean_image)\n",
    "\n",
    "        noisy_image = cv2.imread(os.path.join(noisy_dir, filename), 0)\n",
    "        noisy_image = noisy_image.astype(np.float32) / 255.0\n",
    "        noisy_images.append(noisy_image)\n",
    "\n",
    "# Flatten initial kernel for optimization\n",
    "initial_params = initial_kernel.flatten()\n",
    "\n",
    "# Optimize the kernel parameters with tqdm progress bar\n",
    "with tqdm(total=len(clean_images), desc='Training Kernel') as pbar:\n",
    "    def update_progress(_):\n",
    "        pbar.update(1)\n",
    "\n",
    "    # Optimize the kernel parameters\n",
    "    optimized_params = minimize(objective_function, initial_params, args=(clean_images, noisy_images),\n",
    "                                callback=update_progress)\n",
    "\n",
    "# Reshape optimized parameters to obtain the trained kernel\n",
    "trained_kernel = optimized_params.x.reshape((3, 3))\n",
    "\n",
    "# Pad the trained kernel\n",
    "trained_kernel_padded = np.pad(trained_kernel, padding, 'constant')\n",
    "\n",
    "# Load the test image\n",
    "test_image = cv2.imread('test.png', 0)\n",
    "test_image = test_image.astype(np.float32) / 255.0\n",
    "\n",
    "# Denoise the test image using the trained kernel\n",
    "denoised_image = test_image.copy()\n",
    "for _ in range(20):\n",
    "    denoised_image = denoise_image(denoised_image, trained_kernel_padded)\n",
    "\n",
    "cv2.imwrite('perona1.jpg', denoised_image * 255.0)"
   ]
  },
  {
   "cell_type": "code",
   "execution_count": 2,
   "id": "5973c3fa",
   "metadata": {},
   "outputs": [
    {
     "name": "stdout",
     "output_type": "stream",
     "text": [
      "[[ 1.  1.  1.]\n",
      " [ 1. -8.  1.]\n",
      " [ 1.  1.  1.]]\n"
     ]
    }
   ],
   "source": [
    "print(trained_kernel)"
   ]
  },
  {
   "cell_type": "code",
   "execution_count": 3,
   "id": "d13f939c",
   "metadata": {},
   "outputs": [
    {
     "name": "stderr",
     "output_type": "stream",
     "text": [
      "Training Kernel:   0%|                                                                         | 0/400 [00:00<?, ?it/s]C:\\Users\\anish\\AppData\\Local\\Temp\\ipykernel_17012\\2914994474.py:41: RuntimeWarning: overflow encountered in multiply\n",
      "  p = dt * k_u * g(k_u)\n",
      "C:\\Users\\anish\\AppData\\Local\\Temp\\ipykernel_17012\\2914994474.py:41: RuntimeWarning: invalid value encountered in multiply\n",
      "  p = dt * k_u * g(k_u)\n",
      "C:\\Users\\anish\\AppData\\Local\\Temp\\ipykernel_17012\\2914994474.py:35: RuntimeWarning: overflow encountered in square\n",
      "  error += np.mean((denoised_image - clean_image) ** 2)  # Example error metric (MSE)\n",
      "Training Kernel:   0%|                                                                         | 0/400 [00:04<?, ?it/s]\n",
      "C:\\Users\\anish\\AppData\\Local\\Temp\\ipykernel_17012\\2914994474.py:88: RuntimeWarning: overflow encountered in multiply\n",
      "  cv2.imwrite('relu1.jpg', denoised_image * 255.0)\n"
     ]
    },
    {
     "data": {
      "text/plain": [
       "True"
      ]
     },
     "execution_count": 3,
     "metadata": {},
     "output_type": "execute_result"
    }
   ],
   "source": [
    "import os\n",
    "import numpy as np\n",
    "import cv2\n",
    "from scipy.optimize import minimize\n",
    "from tqdm import tqdm\n",
    "\n",
    "# Define the parameters\n",
    "dt = 0.1  # Time step\n",
    "initial_kernel = np.array([[1, 1, 1], [1, -8, 1], [1, 1, 1]])  # Initial kernel\n",
    "\n",
    "# Pad the kernel to match the size of the image\n",
    "padding = (initial_kernel.shape[0] - 1) // 2\n",
    "initial_kernel_padded = np.pad(initial_kernel, padding, 'constant')\n",
    "\n",
    "# Define the hyperparameter lambda\n",
    "lambda_value = 0.1\n",
    "\n",
    "# ReLU activation function\n",
    "def relu(x):\n",
    "    return np.maximum(0, x)\n",
    "\n",
    "# Function to compute phi(x) using ReLU activation\n",
    "def g(x):\n",
    "    return relu(x)\n",
    "\n",
    "# Objective function to minimize\n",
    "def objective_function(kernel_params, clean_images, noisy_images):\n",
    "    kernel = kernel_params.reshape((3, 3))\n",
    "    kernel_padded = np.pad(kernel, padding, 'constant')\n",
    "    error = 0\n",
    "    for clean_image, noisy_image in zip(clean_images, noisy_images):\n",
    "        denoised_image = noisy_image.copy()\n",
    "        for _ in range(20):\n",
    "            denoised_image = denoise_image(denoised_image, kernel_padded)\n",
    "        error += np.mean((denoised_image - clean_image) ** 2)  # Example error metric (MSE)\n",
    "    return error\n",
    "\n",
    "# Function to apply the update rule\n",
    "def denoise_image(image, kernel):\n",
    "    k_u = cv2.filter2D(image, -1, kernel)\n",
    "    p = dt * k_u * g(k_u)\n",
    "    return image + p\n",
    "\n",
    "# Load the training images (clean and noisy) from separate directories\n",
    "clean_dir = 'clean_images'\n",
    "noisy_dir = 'mult_train'\n",
    "\n",
    "clean_images = []\n",
    "noisy_images = []\n",
    "\n",
    "for filename in os.listdir(clean_dir):\n",
    "    if filename.endswith('.jpg') or filename.endswith('.png'):\n",
    "        clean_image = cv2.imread(os.path.join(clean_dir, filename), 0)\n",
    "        clean_image = clean_image.astype(np.float32) / 255.0\n",
    "        clean_images.append(clean_image)\n",
    "\n",
    "        noisy_image = cv2.imread(os.path.join(noisy_dir, filename), 0)\n",
    "        noisy_image = noisy_image.astype(np.float32) / 255.0\n",
    "        noisy_images.append(noisy_image)\n",
    "\n",
    "# Flatten initial kernel for optimization\n",
    "initial_params = initial_kernel.flatten()\n",
    "\n",
    "# Optimize the kernel parameters with tqdm progress bar\n",
    "with tqdm(total=len(clean_images), desc='Training Kernel') as pbar:\n",
    "    def update_progress(_):\n",
    "        pbar.update(1)\n",
    "\n",
    "    # Optimize the kernel parameters\n",
    "    optimized_params = minimize(objective_function, initial_params, args=(clean_images, noisy_images),\n",
    "                                callback=update_progress)\n",
    "\n",
    "# Reshape optimized parameters to obtain the trained kernel\n",
    "trained_kernel = optimized_params.x.reshape((3, 3))\n",
    "\n",
    "# Pad the trained kernel\n",
    "trained_kernel_padded = np.pad(trained_kernel, padding, 'constant')\n",
    "\n",
    "# Load the test image\n",
    "test_image = cv2.imread('test.png', 0)\n",
    "test_image = test_image.astype(np.float32) / 255.0\n",
    "\n",
    "# Denoise the test image using the trained kernel\n",
    "denoised_image = test_image.copy()\n",
    "for _ in range(20):\n",
    "    denoised_image = denoise_image(denoised_image, trained_kernel_padded)\n",
    "\n",
    "cv2.imwrite('relu1.jpg', denoised_image * 255.0)"
   ]
  },
  {
   "cell_type": "code",
   "execution_count": 4,
   "id": "b5003253",
   "metadata": {},
   "outputs": [
    {
     "name": "stdout",
     "output_type": "stream",
     "text": [
      "[[ 1.  1.  1.]\n",
      " [ 1. -8.  1.]\n",
      " [ 1.  1.  1.]]\n"
     ]
    }
   ],
   "source": [
    "print(trained_kernel)"
   ]
  },
  {
   "cell_type": "code",
   "execution_count": 5,
   "id": "5717d4f7",
   "metadata": {},
   "outputs": [
    {
     "name": "stderr",
     "output_type": "stream",
     "text": [
      "Training Kernel:   0%|                                                                         | 0/400 [00:07<?, ?it/s]\n"
     ]
    },
    {
     "data": {
      "text/plain": [
       "True"
      ]
     },
     "execution_count": 5,
     "metadata": {},
     "output_type": "execute_result"
    }
   ],
   "source": [
    "import os\n",
    "import numpy as np\n",
    "import cv2\n",
    "from scipy.optimize import minimize\n",
    "from tqdm import tqdm\n",
    "\n",
    "# Define the parameters\n",
    "dt = 0.1  # Time step\n",
    "initial_kernel = np.array([[1, 1, 1], [1, -8, 1], [1, 1, 1]])  # Initial kernel\n",
    "\n",
    "# Pad the kernel to match the size of the image\n",
    "padding = (initial_kernel.shape[0] - 1) // 2\n",
    "initial_kernel_padded = np.pad(initial_kernel, padding, 'constant')\n",
    "\n",
    "# Define the hyperparameter lambda\n",
    "lambda_value = 0.1\n",
    "\n",
    "# Function to compute g(s^2)\n",
    "def g(s_squared):\n",
    "    denom = np.sqrt(1 + s_squared/lambda_value**2)\n",
    "    return np.sqrt(s_squared)/denom\n",
    "\n",
    "# Objective function to minimize\n",
    "def objective_function(kernel_params, clean_images, noisy_images):\n",
    "    kernel = kernel_params.reshape((3, 3))\n",
    "    kernel_padded = np.pad(kernel, padding, 'constant')\n",
    "    error = 0\n",
    "    for clean_image, noisy_image in zip(clean_images, noisy_images):\n",
    "        denoised_image = noisy_image.copy()\n",
    "        for _ in range(20):\n",
    "            denoised_image = denoise_image(denoised_image, kernel_padded)\n",
    "        error += np.mean((denoised_image - clean_image) ** 2)  # Example error metric (MSE)\n",
    "    return error\n",
    "\n",
    "# Function to apply the update rule\n",
    "def denoise_image(image, kernel):\n",
    "    k_u = cv2.filter2D(image, -1, kernel)\n",
    "    phi = k_u*g(k_u**2)\n",
    "    p = dt * phi\n",
    "    return image + p\n",
    "\n",
    "# Load the training images (clean and noisy) from separate directories\n",
    "clean_dir = 'clean_images'\n",
    "noisy_dir = 'mult_train'\n",
    "\n",
    "clean_images = []\n",
    "noisy_images = []\n",
    "\n",
    "for filename in os.listdir(clean_dir):\n",
    "    if filename.endswith('.jpg') or filename.endswith('.png'):\n",
    "        clean_image = cv2.imread(os.path.join(clean_dir, filename), 0)\n",
    "        clean_image = clean_image.astype(np.float32) / 255.0\n",
    "        clean_images.append(clean_image)\n",
    "\n",
    "        noisy_image = cv2.imread(os.path.join(noisy_dir, filename), 0)\n",
    "        noisy_image = noisy_image.astype(np.float32) / 255.0\n",
    "        noisy_images.append(noisy_image)\n",
    "\n",
    "# Flatten initial kernel for optimization\n",
    "initial_params = initial_kernel.flatten()\n",
    "\n",
    "# Optimize the kernel parameters with tqdm progress bar\n",
    "with tqdm(total=len(clean_images), desc='Training Kernel') as pbar:\n",
    "    def update_progress(_):\n",
    "        pbar.update(1)\n",
    "\n",
    "    # Optimize the kernel parameters\n",
    "    optimized_params = minimize(objective_function, initial_params, args=(clean_images, noisy_images),\n",
    "                                callback=update_progress)\n",
    "\n",
    "# Reshape optimized parameters to obtain the trained kernel\n",
    "trained_kernel = optimized_params.x.reshape((3, 3))\n",
    "\n",
    "# Pad the trained kernel\n",
    "trained_kernel_padded = np.pad(trained_kernel, padding, 'constant')\n",
    "\n",
    "# Load the test image\n",
    "test_image = cv2.imread('test.png', 0)\n",
    "test_image = test_image.astype(np.float32) / 255.0\n",
    "\n",
    "# Denoise the test image using the trained kernel\n",
    "denoised_image = test_image.copy()\n",
    "for _ in range(20):\n",
    "    denoised_image = denoise_image(denoised_image, trained_kernel_padded)\n",
    "\n",
    "cv2.imwrite('charbonier1.jpg', denoised_image * 255.0)"
   ]
  },
  {
   "cell_type": "code",
   "execution_count": 6,
   "id": "d5e8c508",
   "metadata": {},
   "outputs": [
    {
     "name": "stdout",
     "output_type": "stream",
     "text": [
      "[[ 1.  1.  1.]\n",
      " [ 1. -8.  1.]\n",
      " [ 1.  1.  1.]]\n"
     ]
    }
   ],
   "source": [
    "print(trained_kernel)"
   ]
  }
 ],
 "metadata": {
  "kernelspec": {
   "display_name": "Python 3 (ipykernel)",
   "language": "python",
   "name": "python3"
  },
  "language_info": {
   "codemirror_mode": {
    "name": "ipython",
    "version": 3
   },
   "file_extension": ".py",
   "mimetype": "text/x-python",
   "name": "python",
   "nbconvert_exporter": "python",
   "pygments_lexer": "ipython3",
   "version": "3.9.13"
  }
 },
 "nbformat": 4,
 "nbformat_minor": 5
}
