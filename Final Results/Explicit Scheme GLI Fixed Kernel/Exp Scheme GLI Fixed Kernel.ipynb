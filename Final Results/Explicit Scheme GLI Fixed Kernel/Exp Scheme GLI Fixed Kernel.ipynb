{
 "cells": [
  {
   "cell_type": "markdown",
   "id": "0fc92070",
   "metadata": {},
   "source": [
    "#### Kernel using 4 neighbors"
   ]
  },
  {
   "cell_type": "code",
   "execution_count": 1,
   "id": "d7e5ae09",
   "metadata": {},
   "outputs": [
    {
     "data": {
      "text/plain": [
       "True"
      ]
     },
     "execution_count": 1,
     "metadata": {},
     "output_type": "execute_result"
    }
   ],
   "source": [
    "import numpy as np\n",
    "import cv2\n",
    "\n",
    "# Define the parameters\n",
    "dt = 0.1  # Time step\n",
    "kernel = np.array([[0, 1, 0], [1, -4, 1], [0, 1, 0]])\n",
    "\n",
    "# Pad the kernel to match the size of the image\n",
    "padding = (kernel.shape[0] - 1) // 2\n",
    "kernel_padded = np.pad(kernel, padding, 'constant')\n",
    "\n",
    "# Define the hyperparameter lambda\n",
    "lambda_value = 0.1\n",
    "alpha_gli = 1.7\n",
    "\n",
    "def gray_level(image_matrix):\n",
    "    return (image_matrix/np.max(image_matrix))**alpha_gli\n",
    "\n",
    "# Function to compute g(s^2)\n",
    "def g(s_squared):\n",
    "    return 1 / (1 + (s_squared + lambda_value**2))\n",
    "\n",
    "# Function to apply the update rule\n",
    "def denoise_image(image, kernel):\n",
    "    k_u = cv2.filter2D(image, -1, kernel)\n",
    "    gli = gray_level(np.abs(k_u))\n",
    "    phi = k_u*g(k_u**2)*gli\n",
    "    p = dt * phi \n",
    "    return image + p\n",
    "\n",
    "# Load the image\n",
    "image = cv2.imread('test.png', 0)\n",
    "image = image.astype(np.float32) / 255.0\n",
    "\n",
    "denoised_image = image.copy()\n",
    "for _ in range(20):\n",
    "    denoised_image = denoise_image(denoised_image, kernel_padded)\n",
    "\n",
    "cv2.imwrite('perona.jpg', denoised_image * 255.0)"
   ]
  },
  {
   "cell_type": "code",
   "execution_count": 2,
   "id": "7ceb93f4",
   "metadata": {},
   "outputs": [
    {
     "data": {
      "text/plain": [
       "True"
      ]
     },
     "execution_count": 2,
     "metadata": {},
     "output_type": "execute_result"
    }
   ],
   "source": [
    "import numpy as np\n",
    "import cv2\n",
    "\n",
    "# Define the parameters\n",
    "dt = 0.1  # Time step\n",
    "kernel = np.array([[0, 1, 0], [1, -4, 1], [0, 1, 0]])\n",
    "\n",
    "# Pad the kernel to match the size of the image\n",
    "padding = (kernel.shape[0] - 1) // 2\n",
    "kernel_padded = np.pad(kernel, padding, 'constant')\n",
    "\n",
    "# Define the hyperparameter lambda\n",
    "lambda_value = 0.1\n",
    "alpha_gli = 1.7\n",
    "\n",
    "def gray_level(image_matrix):\n",
    "    return (image_matrix/np.max(image_matrix))**alpha_gli\n",
    "\n",
    "# ReLU activation function\n",
    "def relu(x):\n",
    "    return np.maximum(0, x)\n",
    "\n",
    "# Function to compute phi(x) using ReLU activation\n",
    "def g(x):\n",
    "    return relu(x)\n",
    "\n",
    "# Function to apply the update rule\n",
    "def denoise_image(image, kernel):\n",
    "    k_u = cv2.filter2D(image, -1, kernel)\n",
    "    gli = gray_level(np.abs(k_u))\n",
    "    phi = k_u*g(k_u)*gli\n",
    "    p = dt * phi \n",
    "    return image + p\n",
    "\n",
    "# Load the image\n",
    "image = cv2.imread('test.png', 0)\n",
    "image = image.astype(np.float32) / 255.0\n",
    "\n",
    "denoised_image = image.copy()\n",
    "for _ in range(20):\n",
    "    denoised_image = denoise_image(denoised_image, kernel_padded)\n",
    "\n",
    "cv2.imwrite('relu.jpg', denoised_image * 255.0)"
   ]
  },
  {
   "cell_type": "code",
   "execution_count": 3,
   "id": "1717fdb5",
   "metadata": {},
   "outputs": [
    {
     "data": {
      "text/plain": [
       "True"
      ]
     },
     "execution_count": 3,
     "metadata": {},
     "output_type": "execute_result"
    }
   ],
   "source": [
    "import numpy as np\n",
    "import cv2\n",
    "from math import sqrt\n",
    "\n",
    "# Define the parameters\n",
    "dt = 0.1  # Time step\n",
    "kernel = np.array([[0, 1, 0], [1, -4, 1], [0, 1, 0]])\n",
    "\n",
    "# Pad the kernel to match the size of the image\n",
    "padding = (kernel.shape[0] - 1) // 2\n",
    "kernel_padded = np.pad(kernel, padding, 'constant')\n",
    "\n",
    "# Define the hyperparameter lambda\n",
    "lambda_value = 0.1\n",
    "alpha_gli = 1.7\n",
    "\n",
    "def gray_level(image_matrix):\n",
    "    return (image_matrix/np.max(image_matrix))**alpha_gli\n",
    "\n",
    "# Function to compute g(s^2)\n",
    "def g(s_squared):\n",
    "    denom = np.sqrt(1 + s_squared/lambda_value**2)\n",
    "    return np.sqrt(s_squared)/denom\n",
    "\n",
    "# Function to apply the update rule\n",
    "def denoise_image(image, kernel):\n",
    "    k_u = cv2.filter2D(image, -1, kernel)\n",
    "    gli = gray_level(np.abs(k_u))\n",
    "    phi = k_u*g(k_u**2)*gli\n",
    "    p = dt * phi\n",
    "    return image + p\n",
    "\n",
    "# Load the image\n",
    "image = cv2.imread('test.png', 0)\n",
    "image = image.astype(np.float32) / 255.0\n",
    "\n",
    "denoised_image = image.copy()\n",
    "for _ in range(20):\n",
    "    denoised_image = denoise_image(denoised_image, kernel_padded)\n",
    "\n",
    "cv2.imwrite('charbonier.jpg', denoised_image * 255.0)"
   ]
  },
  {
   "cell_type": "markdown",
   "id": "7fccdfe3",
   "metadata": {},
   "source": [
    "#### Kernel using 8 neighbors"
   ]
  },
  {
   "cell_type": "code",
   "execution_count": 4,
   "id": "159ebc6b",
   "metadata": {},
   "outputs": [
    {
     "data": {
      "text/plain": [
       "True"
      ]
     },
     "execution_count": 4,
     "metadata": {},
     "output_type": "execute_result"
    }
   ],
   "source": [
    "import numpy as np\n",
    "import cv2\n",
    "\n",
    "# Define the parameters\n",
    "dt = 0.1  # Time step\n",
    "kernel = np.array([[1, 1, 1], [1, -8, 1], [1, 1, 1]])\n",
    "\n",
    "# Pad the kernel to match the size of the image\n",
    "padding = (kernel.shape[0] - 1) // 2\n",
    "kernel_padded = np.pad(kernel, padding, 'constant')\n",
    "\n",
    "# Define the hyperparameter lambda\n",
    "lambda_value = 0.1\n",
    "alpha_gli = 1.7\n",
    "\n",
    "def gray_level(image_matrix):\n",
    "    return (image_matrix/np.max(image_matrix))**alpha_gli\n",
    "\n",
    "# Function to compute g(s^2)\n",
    "def g(s_squared):\n",
    "    return 1 / (1 + (s_squared + lambda_value**2))\n",
    "\n",
    "# Function to apply the update rule\n",
    "def denoise_image(image, kernel):\n",
    "    k_u = cv2.filter2D(image, -1, kernel)\n",
    "    gli = gray_level(np.abs(k_u))\n",
    "    phi = k_u*g(k_u**2)*gli\n",
    "    p = dt * phi \n",
    "    return image + p\n",
    "\n",
    "# Load the image\n",
    "image = cv2.imread('test.png', 0)\n",
    "image = image.astype(np.float32) / 255.0\n",
    "\n",
    "denoised_image = image.copy()\n",
    "for _ in range(20):\n",
    "    denoised_image = denoise_image(denoised_image, kernel_padded)\n",
    "\n",
    "cv2.imwrite('perona1.jpg', denoised_image * 255.0)"
   ]
  },
  {
   "cell_type": "code",
   "execution_count": 5,
   "id": "6d3abfb6",
   "metadata": {},
   "outputs": [
    {
     "data": {
      "text/plain": [
       "True"
      ]
     },
     "execution_count": 5,
     "metadata": {},
     "output_type": "execute_result"
    }
   ],
   "source": [
    "import numpy as np\n",
    "import cv2\n",
    "\n",
    "# Define the parameters\n",
    "dt = 0.1  # Time step\n",
    "kernel = np.array([[1, 1, 1], [1, -8, 1], [1, 1, 1]])\n",
    "\n",
    "# Pad the kernel to match the size of the image\n",
    "padding = (kernel.shape[0] - 1) // 2\n",
    "kernel_padded = np.pad(kernel, padding, 'constant')\n",
    "\n",
    "# Define the hyperparameter lambda\n",
    "lambda_value = 0.1\n",
    "alpha_gli = 1.7\n",
    "\n",
    "def gray_level(image_matrix):\n",
    "    return (image_matrix/np.max(image_matrix))**alpha_gli\n",
    "\n",
    "# ReLU activation function\n",
    "def relu(x):\n",
    "    return np.maximum(0, x)\n",
    "\n",
    "# Function to compute phi(x) using ReLU activation\n",
    "def g(x):\n",
    "    return relu(x)\n",
    "\n",
    "# Function to apply the update rule\n",
    "def denoise_image(image, kernel):\n",
    "    k_u = cv2.filter2D(image, -1, kernel)\n",
    "    gli = gray_level(np.abs(k_u))\n",
    "    phi = k_u*g(k_u)*gli\n",
    "    p = dt * phi \n",
    "    return image + p\n",
    "\n",
    "# Load the image\n",
    "image = cv2.imread('test.png', 0)\n",
    "image = image.astype(np.float32) / 255.0\n",
    "\n",
    "denoised_image = image.copy()\n",
    "for _ in range(20):\n",
    "    denoised_image = denoise_image(denoised_image, kernel_padded)\n",
    "\n",
    "cv2.imwrite('relu1.jpg', denoised_image * 255.0)"
   ]
  },
  {
   "cell_type": "code",
   "execution_count": 6,
   "id": "50066e64",
   "metadata": {},
   "outputs": [
    {
     "data": {
      "text/plain": [
       "True"
      ]
     },
     "execution_count": 6,
     "metadata": {},
     "output_type": "execute_result"
    }
   ],
   "source": [
    "import numpy as np\n",
    "import cv2\n",
    "from math import sqrt\n",
    "\n",
    "# Define the parameters\n",
    "dt = 0.1  # Time step\n",
    "kernel = np.array([[1, 1, 1], [1, -8, 1], [1, 1, 1]])\n",
    "\n",
    "# Pad the kernel to match the size of the image\n",
    "padding = (kernel.shape[0] - 1) // 2\n",
    "kernel_padded = np.pad(kernel, padding, 'constant')\n",
    "\n",
    "# Define the hyperparameter lambda\n",
    "lambda_value = 0.1\n",
    "alpha_gli = 1.7\n",
    "\n",
    "def gray_level(image_matrix):\n",
    "    return (image_matrix/np.max(image_matrix))**alpha_gli\n",
    "\n",
    "# Function to compute g(s^2)\n",
    "def g(s_squared):\n",
    "    denom = np.sqrt(1 + s_squared/lambda_value**2)\n",
    "    return np.sqrt(s_squared)/denom\n",
    "\n",
    "# Function to apply the update rule\n",
    "def denoise_image(image, kernel):\n",
    "    k_u = cv2.filter2D(image, -1, kernel)\n",
    "    gli = gray_level(np.abs(k_u))\n",
    "    phi = k_u*g(k_u**2)*gli\n",
    "    p = dt * phi\n",
    "    return image + p\n",
    "\n",
    "# Load the image\n",
    "image = cv2.imread('test.png', 0)\n",
    "image = image.astype(np.float32) / 255.0\n",
    "\n",
    "denoised_image = image.copy()\n",
    "for _ in range(20):\n",
    "    denoised_image = denoise_image(denoised_image, kernel_padded)\n",
    "\n",
    "cv2.imwrite('charbonier1.jpg', denoised_image * 255.0)"
   ]
  }
 ],
 "metadata": {
  "kernelspec": {
   "display_name": "Python 3 (ipykernel)",
   "language": "python",
   "name": "python3"
  },
  "language_info": {
   "codemirror_mode": {
    "name": "ipython",
    "version": 3
   },
   "file_extension": ".py",
   "mimetype": "text/x-python",
   "name": "python",
   "nbconvert_exporter": "python",
   "pygments_lexer": "ipython3",
   "version": "3.9.13"
  }
 },
 "nbformat": 4,
 "nbformat_minor": 5
}
