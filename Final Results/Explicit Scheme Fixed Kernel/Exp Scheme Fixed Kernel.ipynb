{
 "cells": [
  {
   "cell_type": "markdown",
   "id": "162cf8d7",
   "metadata": {},
   "source": [
    "#### Kernel Using 4 neighbors"
   ]
  },
  {
   "cell_type": "code",
   "execution_count": 7,
   "id": "fb654cc7",
   "metadata": {},
   "outputs": [
    {
     "data": {
      "text/plain": [
       "True"
      ]
     },
     "execution_count": 7,
     "metadata": {},
     "output_type": "execute_result"
    }
   ],
   "source": [
    "import numpy as np\n",
    "import cv2\n",
    "\n",
    "# Define the parameters\n",
    "dt = 0.1  # Time step\n",
    "kernel = np.array([[0, 1, 0], [1, -4, 1], [0, 1, 0]])\n",
    "\n",
    "# Pad the kernel to match the size of the image\n",
    "padding = (kernel.shape[0] - 1) // 2\n",
    "kernel_padded = np.pad(kernel, padding, 'constant')\n",
    "\n",
    "# Define the hyperparameter lambda\n",
    "lambda_value = 0.1\n",
    "\n",
    "# Function to compute g(s^2)\n",
    "def g(s_squared):\n",
    "    return 1 / (1 + (s_squared + lambda_value**2))\n",
    "\n",
    "# Function to apply the update rule\n",
    "def denoise_image(image, kernel):\n",
    "    k_u = cv2.filter2D(image, -1, kernel)\n",
    "    phi = k_u*g(k_u**2)\n",
    "    p = dt * phi \n",
    "    return image + p\n",
    "\n",
    "# Load the image\n",
    "image = cv2.imread('test_0.8.png', 0)\n",
    "image = image.astype(np.float32) / 255.0\n",
    "\n",
    "denoised_image = image.copy()\n",
    "for _ in range(20):\n",
    "    denoised_image = denoise_image(denoised_image, kernel_padded)\n",
    "\n",
    "cv2.imwrite('perona_0.8.jpg', denoised_image * 255.0)"
   ]
  },
  {
   "cell_type": "code",
   "execution_count": 8,
   "id": "1aba6d9a",
   "metadata": {},
   "outputs": [
    {
     "data": {
      "text/plain": [
       "True"
      ]
     },
     "execution_count": 8,
     "metadata": {},
     "output_type": "execute_result"
    }
   ],
   "source": [
    "import numpy as np\n",
    "import cv2\n",
    "\n",
    "# Define the parameters\n",
    "dt = 0.1  # Time step\n",
    "kernel = np.array([[0, 1, 0], [1, -4, 1], [0, 1, 0]])\n",
    "\n",
    "# Pad the kernel to match the size of the image\n",
    "padding = (kernel.shape[0] - 1) // 2\n",
    "kernel_padded = np.pad(kernel, padding, 'constant')\n",
    "\n",
    "# Define the hyperparameter lambda\n",
    "lambda_value = 0.1\n",
    "\n",
    "# ReLU activation function\n",
    "def relu(x):\n",
    "    return np.maximum(0, x)\n",
    "\n",
    "# Function to compute phi(x) using ReLU activation\n",
    "def g(x):\n",
    "    return relu(x)\n",
    "\n",
    "# Function to apply the update rule\n",
    "def denoise_image(image, kernel):\n",
    "    k_u = cv2.filter2D(image, -1, kernel)\n",
    "    p = dt * k_u * g(k_u)\n",
    "    return image + p\n",
    "\n",
    "# Load the image\n",
    "image = cv2.imread('test_0.8.png', 0)\n",
    "image = image.astype(np.float32) / 255.0\n",
    "\n",
    "denoised_image = image.copy()\n",
    "for _ in range(20):\n",
    "    denoised_image = denoise_image(denoised_image, kernel_padded)\n",
    "\n",
    "cv2.imwrite('relu_0.8.jpg', denoised_image * 255.0)"
   ]
  },
  {
   "cell_type": "code",
   "execution_count": 9,
   "id": "af8b9188",
   "metadata": {},
   "outputs": [
    {
     "data": {
      "text/plain": [
       "True"
      ]
     },
     "execution_count": 9,
     "metadata": {},
     "output_type": "execute_result"
    }
   ],
   "source": [
    "import numpy as np\n",
    "import cv2\n",
    "from math import sqrt\n",
    "\n",
    "# Define the parameters\n",
    "dt = 0.1  # Time step\n",
    "kernel = np.array([[0, 1, 0], [1, -4, 1], [0, 1, 0]])\n",
    "\n",
    "# Pad the kernel to match the size of the image\n",
    "padding = (kernel.shape[0] - 1) // 2\n",
    "kernel_padded = np.pad(kernel, padding, 'constant')\n",
    "\n",
    "# Define the hyperparameter lambda\n",
    "lambda_value = 0.1\n",
    "\n",
    "# Function to compute g(s^2)\n",
    "def g(s_squared):\n",
    "    denom = np.sqrt(1 + s_squared/lambda_value**2)\n",
    "    return np.sqrt(s_squared)/denom\n",
    "\n",
    "# Function to apply the update rule\n",
    "def denoise_image(image, kernel):\n",
    "    k_u = cv2.filter2D(image, -1, kernel)\n",
    "    phi = k_u*g(k_u**2)\n",
    "    p = dt * phi\n",
    "    return image + p\n",
    "\n",
    "# Load the image\n",
    "image = cv2.imread('test_0.8.png', 0)\n",
    "image = image.astype(np.float32) / 255.0\n",
    "\n",
    "denoised_image = image.copy()\n",
    "for _ in range(20):\n",
    "    denoised_image = denoise_image(denoised_image, kernel_padded)\n",
    "\n",
    "cv2.imwrite('charbonier_0.8.jpg', denoised_image * 255.0)"
   ]
  },
  {
   "cell_type": "markdown",
   "id": "40c87cca",
   "metadata": {},
   "source": [
    "#### Kernel Using 8 neighbors"
   ]
  },
  {
   "cell_type": "code",
   "execution_count": 10,
   "id": "e60e11bf",
   "metadata": {},
   "outputs": [
    {
     "data": {
      "text/plain": [
       "True"
      ]
     },
     "execution_count": 10,
     "metadata": {},
     "output_type": "execute_result"
    }
   ],
   "source": [
    "import numpy as np\n",
    "import cv2\n",
    "\n",
    "# Define the parameters\n",
    "dt = 0.1  # Time step\n",
    "kernel = np.array([[1, 1, 1], [1, -8, 1], [1, 1, 1]])\n",
    "\n",
    "# Pad the kernel to match the size of the image\n",
    "padding = (kernel.shape[0] - 1) // 2\n",
    "kernel_padded = np.pad(kernel, padding, 'constant')\n",
    "\n",
    "# Define the hyperparameter lambda\n",
    "lambda_value = 0.1\n",
    "\n",
    "# Function to compute g(s^2)\n",
    "def g(s_squared):\n",
    "    return 1 / (1 + (s_squared + lambda_value**2))\n",
    "\n",
    "# Function to apply the update rule\n",
    "def denoise_image(image, kernel):\n",
    "    k_u = cv2.filter2D(image, -1, kernel)\n",
    "    phi = k_u*g(k_u**2)\n",
    "    p = dt * phi \n",
    "    return image + p\n",
    "\n",
    "# Load the image\n",
    "image = cv2.imread('test_0.8.png', 0)\n",
    "image = image.astype(np.float32) / 255.0\n",
    "\n",
    "denoised_image = image.copy()\n",
    "for _ in range(20):\n",
    "    denoised_image = denoise_image(denoised_image, kernel_padded)\n",
    "\n",
    "cv2.imwrite('perona_0.8.jpg', denoised_image * 255.0)"
   ]
  },
  {
   "cell_type": "code",
   "execution_count": 11,
   "id": "9873b058",
   "metadata": {},
   "outputs": [
    {
     "data": {
      "text/plain": [
       "True"
      ]
     },
     "execution_count": 11,
     "metadata": {},
     "output_type": "execute_result"
    }
   ],
   "source": [
    "import numpy as np\n",
    "import cv2\n",
    "\n",
    "# Define the parameters\n",
    "dt = 0.1  # Time step\n",
    "kernel = np.array([[1, 1, 1], [1, -8, 1], [1, 1, 1]])\n",
    "\n",
    "# Pad the kernel to match the size of the image\n",
    "padding = (kernel.shape[0] - 1) // 2\n",
    "kernel_padded = np.pad(kernel, padding, 'constant')\n",
    "\n",
    "# Define the hyperparameter lambda\n",
    "lambda_value = 0.1\n",
    "\n",
    "# ReLU activation function\n",
    "def relu(x):\n",
    "    return np.maximum(0, x)\n",
    "\n",
    "# Function to compute phi(x) using ReLU activation\n",
    "def g(x):\n",
    "    return relu(x)\n",
    "\n",
    "# Function to apply the update rule\n",
    "def denoise_image(image, kernel):\n",
    "    k_u = cv2.filter2D(image, -1, kernel)\n",
    "    p = dt * k_u * g(k_u)\n",
    "    return np.clip(image + p, 0, 1)\n",
    "\n",
    "# Load the image\n",
    "image = cv2.imread('test_0.8.png', 0)\n",
    "image = image.astype(np.float32) / 255.0\n",
    "\n",
    "denoised_image = image.copy()\n",
    "for _ in range(20):\n",
    "    denoised_image = denoise_image(denoised_image, kernel_padded)\n",
    "\n",
    "cv2.imwrite('relu_0.8.jpg', denoised_image * 255.0)"
   ]
  },
  {
   "cell_type": "code",
   "execution_count": 12,
   "id": "7a74a4e8",
   "metadata": {},
   "outputs": [
    {
     "data": {
      "text/plain": [
       "True"
      ]
     },
     "execution_count": 12,
     "metadata": {},
     "output_type": "execute_result"
    }
   ],
   "source": [
    "import numpy as np\n",
    "import cv2\n",
    "from math import sqrt\n",
    "\n",
    "# Define the parameters\n",
    "dt = 0.1  # Time step\n",
    "kernel = np.array([[1, 1, 1], [1, -8, 1], [1, 1, 1]])\n",
    "\n",
    "# Pad the kernel to match the size of the image\n",
    "padding = (kernel.shape[0] - 1) // 2\n",
    "kernel_padded = np.pad(kernel, padding, 'constant')\n",
    "\n",
    "# Define the hyperparameter lambda\n",
    "lambda_value = 0.1\n",
    "\n",
    "# Function to compute g(s^2)\n",
    "def g(s_squared):\n",
    "    denom = np.sqrt(1 + s_squared/lambda_value**2)\n",
    "    return np.sqrt(s_squared)/denom\n",
    "\n",
    "# Function to apply the update rule\n",
    "def denoise_image(image, kernel):\n",
    "    k_u = cv2.filter2D(image, -1, kernel)\n",
    "    phi = k_u*g(k_u**2)\n",
    "    p = dt * phi\n",
    "    return image + p\n",
    "\n",
    "# Load the image\n",
    "image = cv2.imread('test_0.8.png', 0)\n",
    "image = image.astype(np.float32) / 255.0\n",
    "\n",
    "denoised_image = image.copy()\n",
    "for _ in range(20):\n",
    "    denoised_image = denoise_image(denoised_image, kernel_padded)\n",
    "\n",
    "cv2.imwrite('charbonier_0.8.jpg', denoised_image * 255.0)"
   ]
  }
 ],
 "metadata": {
  "kernelspec": {
   "display_name": "Python 3 (ipykernel)",
   "language": "python",
   "name": "python3"
  },
  "language_info": {
   "codemirror_mode": {
    "name": "ipython",
    "version": 3
   },
   "file_extension": ".py",
   "mimetype": "text/x-python",
   "name": "python",
   "nbconvert_exporter": "python",
   "pygments_lexer": "ipython3",
   "version": "3.9.13"
  }
 },
 "nbformat": 4,
 "nbformat_minor": 5
}
