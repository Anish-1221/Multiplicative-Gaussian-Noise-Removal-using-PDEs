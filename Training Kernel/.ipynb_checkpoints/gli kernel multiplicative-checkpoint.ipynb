{
 "cells": [
  {
   "cell_type": "code",
   "execution_count": 6,
   "id": "fa62bcd4",
   "metadata": {},
   "outputs": [
    {
     "name": "stderr",
     "output_type": "stream",
     "text": [
      "Training Kernel:   0%|▎                                                            | 2/400 [03:38<12:04:37, 109.24s/it]\n"
     ]
    },
    {
     "data": {
      "text/plain": [
       "True"
      ]
     },
     "execution_count": 6,
     "metadata": {},
     "output_type": "execute_result"
    }
   ],
   "source": [
    "import os\n",
    "import numpy as np\n",
    "import cv2\n",
    "from scipy.optimize import minimize\n",
    "from tqdm import tqdm\n",
    "\n",
    "# Define the parameters\n",
    "dt = 0.1  # Time step\n",
    "initial_kernel = np.array([[0, 1, 0], [1, -4, 1], [0, 1, 0]])  # Initial kernel\n",
    "\n",
    "# Pad the kernel to match the size of the image\n",
    "padding = (initial_kernel.shape[0] - 1) // 2\n",
    "initial_kernel_padded = np.pad(initial_kernel, padding, 'constant')\n",
    "\n",
    "# Define the hyperparameter lambda\n",
    "lambda_value = 0.1\n",
    "alpha_gli = 1.7\n",
    "\n",
    "def gray_level(image_matrix):\n",
    "    return (image_matrix/np.max(image_matrix))**alpha_gli\n",
    "\n",
    "# Function to compute g(s^2)\n",
    "def g(s_squared):\n",
    "    return 1 / (1 + (s_squared + lambda_value**2))\n",
    "\n",
    "# Objective function to minimize\n",
    "def objective_function(kernel_params, training_images):\n",
    "    kernel = kernel_params.reshape((3, 3))\n",
    "    kernel_padded = np.pad(kernel, padding, 'constant')\n",
    "    error = 0\n",
    "    for image in training_images:\n",
    "        denoised_image = image.copy()\n",
    "        for _ in range(20):\n",
    "            denoised_image = denoise_image(denoised_image, kernel_padded)\n",
    "        error += np.mean((denoised_image - image) ** 2)  # Example error metric (MSE)\n",
    "    return error\n",
    "\n",
    "# Function to apply the update rule\n",
    "def denoise_image(image, kernel):\n",
    "    k_u = cv2.filter2D(image, -1, kernel)\n",
    "    gli = gray_level(np.abs(k_u))\n",
    "    phi = k_u*g(k_u**2)*gli\n",
    "    p = dt * phi \n",
    "    return image + p\n",
    "\n",
    "# Load the training images from a directory\n",
    "training_dir = 'mult_train'\n",
    "training_images = []\n",
    "for filename in os.listdir(training_dir):\n",
    "    if filename.endswith('.jpg') or filename.endswith('.png'):\n",
    "        image = cv2.imread(os.path.join(training_dir, filename), 0)\n",
    "        image = image.astype(np.float32) / 255.0\n",
    "        training_images.append(image)\n",
    "\n",
    "# Flatten initial kernel for optimization\n",
    "initial_params = initial_kernel.flatten()\n",
    "\n",
    "# Optimize the kernel parameters with tqdm progress bar\n",
    "with tqdm(total=len(training_images), desc='Training Kernel') as pbar:\n",
    "    def update_progress(_):\n",
    "        pbar.update(1)\n",
    "\n",
    "    # Optimize the kernel parameters\n",
    "    optimized_params = minimize(objective_function, initial_params, args=(training_images,),\n",
    "                                callback=update_progress)\n",
    "\n",
    "# Reshape optimized parameters to obtain the trained kernel\n",
    "trained_kernel = optimized_params.x.reshape((3, 3))\n",
    "\n",
    "# Pad the trained kernel\n",
    "trained_kernel_padded = np.pad(trained_kernel, padding, 'constant')\n",
    "\n",
    "# Load the test image\n",
    "test_image = cv2.imread('test_002.png', 0)\n",
    "test_image = test_image.astype(np.float32) / 255.0\n",
    "\n",
    "# Denoise the test image using the trained kernel\n",
    "denoised_image = test_image.copy()\n",
    "for _ in range(20):\n",
    "    denoised_image = denoise_image(denoised_image, trained_kernel_padded)\n",
    "\n",
    "cv2.imwrite('denoised_image_gamma.jpg', denoised_image * 255.0)\n"
   ]
  },
  {
   "cell_type": "code",
   "execution_count": 7,
   "id": "3764c263",
   "metadata": {},
   "outputs": [
    {
     "data": {
      "text/plain": [
       "array([[-4.08820598,  1.        ,  5.62927983],\n",
       "       [ 1.        , -4.        ,  1.        ],\n",
       "       [-3.50417655,  1.        , -0.88670628]])"
      ]
     },
     "execution_count": 7,
     "metadata": {},
     "output_type": "execute_result"
    }
   ],
   "source": [
    "trained_kernel"
   ]
  }
 ],
 "metadata": {
  "kernelspec": {
   "display_name": "Python 3 (ipykernel)",
   "language": "python",
   "name": "python3"
  },
  "language_info": {
   "codemirror_mode": {
    "name": "ipython",
    "version": 3
   },
   "file_extension": ".py",
   "mimetype": "text/x-python",
   "name": "python",
   "nbconvert_exporter": "python",
   "pygments_lexer": "ipython3",
   "version": "3.9.13"
  }
 },
 "nbformat": 4,
 "nbformat_minor": 5
}
