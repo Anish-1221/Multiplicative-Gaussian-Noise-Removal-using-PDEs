{
 "cells": [
  {
   "cell_type": "code",
   "execution_count": 1,
   "id": "77b4f017",
   "metadata": {},
   "outputs": [
    {
     "name": "stderr",
     "output_type": "stream",
     "text": [
      "Training Kernel:   1%|▍                                                            | 3/400 [10:21<22:51:19, 207.25s/it]\n"
     ]
    },
    {
     "data": {
      "text/plain": [
       "True"
      ]
     },
     "execution_count": 1,
     "metadata": {},
     "output_type": "execute_result"
    }
   ],
   "source": [
    "import os\n",
    "import numpy as np\n",
    "import cv2\n",
    "from scipy.optimize import minimize\n",
    "from tqdm import tqdm\n",
    "\n",
    "# Define the parameters\n",
    "dt = 0.1  # Time step\n",
    "initial_kernel = np.array([[5.09229699e-09,  1.00000000e+00,  5.40467264e-10], [ 1.00000000e+00, -4.00000000e+00,  1.00000000e+00], [-2.81036184e-09,  1.00000000e+00,  1.97387560e-08]]) #initial kernel\n",
    "\n",
    "\n",
    "# Pad the kernel to match the size of the image\n",
    "padding = (initial_kernel.shape[0] - 1) // 2\n",
    "initial_kernel_padded = np.pad(initial_kernel, padding, 'constant')\n",
    "\n",
    "# Define the hyperparameter lambda\n",
    "lambda_value = 0.1\n",
    "\n",
    "# Function to compute g(s^2)\n",
    "def g(s_squared):\n",
    "    return 1 / (1 + (s_squared + lambda_value**2))\n",
    "\n",
    "# Objective function to minimize\n",
    "def objective_function(kernel_params, training_images):\n",
    "    kernel = kernel_params.reshape((3, 3))\n",
    "    kernel_padded = np.pad(kernel, padding, 'constant')\n",
    "    error = 0\n",
    "    for image in training_images:\n",
    "        denoised_image = image.copy()\n",
    "        for _ in range(20):\n",
    "            denoised_image = denoise_image(denoised_image, kernel_padded)\n",
    "        error += np.mean((denoised_image - image) ** 2)  # Example error metric (MSE)\n",
    "    return error\n",
    "\n",
    "# Function to apply the update rule\n",
    "def denoise_image(image, kernel):\n",
    "    k_u = cv2.filter2D(image, -1, kernel)\n",
    "    phi = k_u * g(k_u**2)\n",
    "    p = dt * phi \n",
    "    return image + p\n",
    "\n",
    "# Load the training images from a directory\n",
    "training_dir = 'mult_train'\n",
    "training_images = []\n",
    "for filename in os.listdir(training_dir):\n",
    "    if filename.endswith('.jpg') or filename.endswith('.png'):\n",
    "        image = cv2.imread(os.path.join(training_dir, filename), 0)\n",
    "        image = image.astype(np.float32) / 255.0\n",
    "        training_images.append(image)\n",
    "\n",
    "# Flatten initial kernel for optimization\n",
    "initial_params = initial_kernel.flatten()\n",
    "\n",
    "# Optimize the kernel parameters with tqdm progress bar\n",
    "with tqdm(total=len(training_images), desc='Training Kernel') as pbar:\n",
    "    def update_progress(_):\n",
    "        pbar.update(1)\n",
    "\n",
    "    # Optimize the kernel parameters\n",
    "    optimized_params = minimize(objective_function, initial_params, args=(training_images,),\n",
    "                                callback=update_progress)\n",
    "\n",
    "# Reshape optimized parameters to obtain the trained kernel\n",
    "trained_kernel = optimized_params.x.reshape((3, 3))\n",
    "\n",
    "# Pad the trained kernel\n",
    "trained_kernel_padded = np.pad(trained_kernel, padding, 'constant')\n",
    "\n",
    "# Load the test image\n",
    "test_image = cv2.imread('test_image.png', 0)\n",
    "test_image = test_image.astype(np.float32) / 255.0\n",
    "\n",
    "# Denoise the test image using the trained kernel\n",
    "denoised_image = test_image.copy()\n",
    "for _ in range(20):\n",
    "    denoised_image = denoise_image(denoised_image, trained_kernel_padded)\n",
    "\n",
    "cv2.imwrite('denoised_image.jpg', denoised_image * 255.0)\n"
   ]
  },
  {
   "cell_type": "code",
   "execution_count": 2,
   "id": "44660f74",
   "metadata": {},
   "outputs": [
    {
     "data": {
      "text/plain": [
       "array([[ 2.41205201e-03,  1.00000000e+00,  6.61658879e-04],\n",
       "       [ 1.00000000e+00, -4.00000000e+00,  1.00000000e+00],\n",
       "       [ 1.40655918e-03,  1.00000000e+00,  8.08768160e-03]])"
      ]
     },
     "execution_count": 2,
     "metadata": {},
     "output_type": "execute_result"
    }
   ],
   "source": [
    "trained_kernel"
   ]
  }
 ],
 "metadata": {
  "kernelspec": {
   "display_name": "Python 3 (ipykernel)",
   "language": "python",
   "name": "python3"
  },
  "language_info": {
   "codemirror_mode": {
    "name": "ipython",
    "version": 3
   },
   "file_extension": ".py",
   "mimetype": "text/x-python",
   "name": "python",
   "nbconvert_exporter": "python",
   "pygments_lexer": "ipython3",
   "version": "3.9.13"
  }
 },
 "nbformat": 4,
 "nbformat_minor": 5
}
